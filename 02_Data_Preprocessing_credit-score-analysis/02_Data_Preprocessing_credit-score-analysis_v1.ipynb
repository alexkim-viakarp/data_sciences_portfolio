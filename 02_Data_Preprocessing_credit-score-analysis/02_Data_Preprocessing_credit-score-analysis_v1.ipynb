{
 "cells": [
  {
   "cell_type": "markdown",
   "id": "4980588a",
   "metadata": {
    "editable": true,
    "slideshow": {
     "slide_type": ""
    },
    "tags": []
   },
   "source": [
    "### 2023-06-02_02_Data_Preprocessing_credit-score-analysis"
   ]
  },
  {
   "cell_type": "markdown",
   "id": "ff80ac7d-cb56-4ce7-b63e-dbeaf5402745",
   "metadata": {
    "editable": true,
    "slideshow": {
     "slide_type": ""
    },
    "tags": []
   },
   "source": [
    "## Project description\n",
    "Your project is to prepare a report for a bank’s loan division. You’ll need to find out if a customer’s marital status an \n",
    "number of children has an impact on whether they will default on a loan. The bank already has some data  n\n",
    "customers’ credit worthine    ss.\n",
    "Your report will be considered when building a credit scoring of a potential customer. A credit scoring is used to\n",
    "evaluate the ability of a potential borrower to repay their \n",
    "\n",
    "----\n",
    "\n",
    "## Описание проекта\n",
    "Ваш проект заключается в подготовке отчета для кредитного отдела банка. Вам нужно будет выяснить, влияет ли  семейное положение клиента и количество детей на то, допустит ли он дефолт по кредиту. У банка уже есть некоторые данные о кредитоспособности клиентов.\n",
    "Ваш отчет будет учтен при составлении кредитного рейтинга потенциального клиента. Кредитный рейтинг используется для оценки способности потенциального заемщика погасить свой кредит.\n",
    "loan."
   ]
  },
  {
   "cell_type": "markdown",
   "id": "71060136-9107-425b-92bd-5a0b82275c95",
   "metadata": {},
   "source": [
    "## Step 1. Open the data file"
   ]
  },
  {
   "cell_type": "code",
   "execution_count": 1,
   "id": "951e3c16-5357-48a0-bea9-760f92d404d5",
   "metadata": {},
   "outputs": [
    {
     "data": {
      "text/html": [
       "<style>.container { width:100% !important; }</style>"
      ],
      "text/plain": [
       "<IPython.core.display.HTML object>"
      ]
     },
     "metadata": {},
     "output_type": "display_data"
    }
   ],
   "source": [
    "from IPython.display import display, HTML\n",
    "display(HTML(\"<style>.container { width:100% !important; }</style>\"))"
   ]
  },
  {
   "cell_type": "code",
   "execution_count": 2,
   "id": "6962187a-a594-4e99-bf29-4a5c80ba9966",
   "metadata": {},
   "outputs": [],
   "source": [
    "import numpy as np\n",
    "import pandas as pd\n",
    "import warnings\n",
    "warnings.filterwarnings('ignore')\n",
    "\n",
    "import matplotlib.pyplot as plt"
   ]
  },
  {
   "cell_type": "code",
   "execution_count": 3,
   "id": "72e15a08-cedf-495a-a3fc-fc8eb7b11898",
   "metadata": {},
   "outputs": [],
   "source": [
    "PATH_data = '../data_yandex-practicum-ds/'"
   ]
  },
  {
   "cell_type": "code",
   "execution_count": 4,
   "id": "8d6e322d-541a-4db0-a226-ace7f2f3cf18",
   "metadata": {},
   "outputs": [
    {
     "name": "stdout",
     "output_type": "stream",
     "text": [
      "CPU times: total: 46.9 ms\n",
      "Wall time: 55 ms\n"
     ]
    }
   ],
   "source": [
    "%%time\n",
    "\n",
    "# прочитать данные (на русском языке) с компьютера \n",
    "df = pd.read_csv(f'{PATH_data}credit_scoring.csv')\n",
    "# read data (in English) from a computer\n",
    "#df = pd.read_csv(f'{PATH_data}credit_scoring_en.csv')"
   ]
  },
  {
   "cell_type": "code",
   "execution_count": 5,
   "id": "f5243235-c9a6-4c91-9243-6bcf16cfd38f",
   "metadata": {},
   "outputs": [
    {
     "name": "stdout",
     "output_type": "stream",
     "text": [
      "<class 'pandas.core.frame.DataFrame'>\n",
      "RangeIndex: 21525 entries, 0 to 21524\n",
      "Data columns (total 12 columns):\n",
      " #   Column            Non-Null Count  Dtype  \n",
      "---  ------            --------------  -----  \n",
      " 0   children          21525 non-null  int64  \n",
      " 1   days_employed     19351 non-null  float64\n",
      " 2   dob_years         21525 non-null  int64  \n",
      " 3   education         21525 non-null  object \n",
      " 4   education_id      21525 non-null  int64  \n",
      " 5   family_status     21525 non-null  object \n",
      " 6   family_status_id  21525 non-null  int64  \n",
      " 7   gender            21525 non-null  object \n",
      " 8   income_type       21525 non-null  object \n",
      " 9   debt              21525 non-null  int64  \n",
      " 10  total_income      19351 non-null  float64\n",
      " 11  purpose           21525 non-null  object \n",
      "dtypes: float64(2), int64(5), object(5)\n",
      "memory usage: 2.0+ MB\n"
     ]
    }
   ],
   "source": [
    "df.info()"
   ]
  },
  {
   "cell_type": "markdown",
   "id": "9b6198c5-9ac3-4e1a-a473-e81e126c3bbd",
   "metadata": {
    "editable": true,
    "slideshow": {
     "slide_type": ""
    },
    "tags": []
   },
   "source": [
    "### Описание данных:\n",
    "1. children — количество детей в семье \n",
    "2. days_employed — общий трудовой стаж в днях\n",
    "3. dob_years — возраст клиента в годах\n",
    "4. education — уровень образования клиента\n",
    "5. education_id — идентификатор уровня образования\n",
    "6. family_status — семейное положение\n",
    "7. family_status_id — идентификатор семейного положения\n",
    "8. gender — пол клиента\n",
    "9. income_type — тип занятости\n",
    "10. debt — имел ли задолженность по возврату кредитов\n",
    "11. total_income — ежемесячный доход\n",
    "12. purpose — цель получения кредита"
   ]
  },
  {
   "cell_type": "markdown",
   "id": "423f9ef8-459f-4187-8d7f-6b669d3d493a",
   "metadata": {},
   "source": [
    "## 2. Data analysis <br>Анализ данных"
   ]
  },
  {
   "cell_type": "code",
   "execution_count": 6,
   "id": "97307f4b-a430-4a5a-8ef7-c9138c147ca8",
   "metadata": {
    "editable": true,
    "slideshow": {
     "slide_type": ""
    },
    "tags": []
   },
   "outputs": [
    {
     "data": {
      "text/html": [
       "<div>\n",
       "<style scoped>\n",
       "    .dataframe tbody tr th:only-of-type {\n",
       "        vertical-align: middle;\n",
       "    }\n",
       "\n",
       "    .dataframe tbody tr th {\n",
       "        vertical-align: top;\n",
       "    }\n",
       "\n",
       "    .dataframe thead th {\n",
       "        text-align: right;\n",
       "    }\n",
       "</style>\n",
       "<table border=\"1\" class=\"dataframe\">\n",
       "  <thead>\n",
       "    <tr style=\"text-align: right;\">\n",
       "      <th></th>\n",
       "      <th>children</th>\n",
       "      <th>days_employed</th>\n",
       "      <th>dob_years</th>\n",
       "      <th>education_id</th>\n",
       "      <th>family_status_id</th>\n",
       "      <th>debt</th>\n",
       "      <th>total_income</th>\n",
       "    </tr>\n",
       "  </thead>\n",
       "  <tbody>\n",
       "    <tr>\n",
       "      <th>count</th>\n",
       "      <td>21525.000000</td>\n",
       "      <td>19351.000000</td>\n",
       "      <td>21525.000000</td>\n",
       "      <td>21525.000000</td>\n",
       "      <td>21525.000000</td>\n",
       "      <td>21525.000000</td>\n",
       "      <td>1.935100e+04</td>\n",
       "    </tr>\n",
       "    <tr>\n",
       "      <th>mean</th>\n",
       "      <td>0.538908</td>\n",
       "      <td>63046.497661</td>\n",
       "      <td>43.293380</td>\n",
       "      <td>0.817236</td>\n",
       "      <td>0.972544</td>\n",
       "      <td>0.080883</td>\n",
       "      <td>1.674223e+05</td>\n",
       "    </tr>\n",
       "    <tr>\n",
       "      <th>std</th>\n",
       "      <td>1.381587</td>\n",
       "      <td>140827.311974</td>\n",
       "      <td>12.574584</td>\n",
       "      <td>0.548138</td>\n",
       "      <td>1.420324</td>\n",
       "      <td>0.272661</td>\n",
       "      <td>1.029716e+05</td>\n",
       "    </tr>\n",
       "    <tr>\n",
       "      <th>min</th>\n",
       "      <td>-1.000000</td>\n",
       "      <td>-18388.949901</td>\n",
       "      <td>0.000000</td>\n",
       "      <td>0.000000</td>\n",
       "      <td>0.000000</td>\n",
       "      <td>0.000000</td>\n",
       "      <td>2.066726e+04</td>\n",
       "    </tr>\n",
       "    <tr>\n",
       "      <th>25%</th>\n",
       "      <td>0.000000</td>\n",
       "      <td>-2747.423625</td>\n",
       "      <td>33.000000</td>\n",
       "      <td>1.000000</td>\n",
       "      <td>0.000000</td>\n",
       "      <td>0.000000</td>\n",
       "      <td>1.030532e+05</td>\n",
       "    </tr>\n",
       "    <tr>\n",
       "      <th>50%</th>\n",
       "      <td>0.000000</td>\n",
       "      <td>-1203.369529</td>\n",
       "      <td>42.000000</td>\n",
       "      <td>1.000000</td>\n",
       "      <td>0.000000</td>\n",
       "      <td>0.000000</td>\n",
       "      <td>1.450179e+05</td>\n",
       "    </tr>\n",
       "    <tr>\n",
       "      <th>75%</th>\n",
       "      <td>1.000000</td>\n",
       "      <td>-291.095954</td>\n",
       "      <td>53.000000</td>\n",
       "      <td>1.000000</td>\n",
       "      <td>1.000000</td>\n",
       "      <td>0.000000</td>\n",
       "      <td>2.034351e+05</td>\n",
       "    </tr>\n",
       "    <tr>\n",
       "      <th>max</th>\n",
       "      <td>20.000000</td>\n",
       "      <td>401755.400475</td>\n",
       "      <td>75.000000</td>\n",
       "      <td>4.000000</td>\n",
       "      <td>4.000000</td>\n",
       "      <td>1.000000</td>\n",
       "      <td>2.265604e+06</td>\n",
       "    </tr>\n",
       "  </tbody>\n",
       "</table>\n",
       "</div>"
      ],
      "text/plain": [
       "           children  days_employed     dob_years  education_id  \\\n",
       "count  21525.000000   19351.000000  21525.000000  21525.000000   \n",
       "mean       0.538908   63046.497661     43.293380      0.817236   \n",
       "std        1.381587  140827.311974     12.574584      0.548138   \n",
       "min       -1.000000  -18388.949901      0.000000      0.000000   \n",
       "25%        0.000000   -2747.423625     33.000000      1.000000   \n",
       "50%        0.000000   -1203.369529     42.000000      1.000000   \n",
       "75%        1.000000    -291.095954     53.000000      1.000000   \n",
       "max       20.000000  401755.400475     75.000000      4.000000   \n",
       "\n",
       "       family_status_id          debt  total_income  \n",
       "count      21525.000000  21525.000000  1.935100e+04  \n",
       "mean           0.972544      0.080883  1.674223e+05  \n",
       "std            1.420324      0.272661  1.029716e+05  \n",
       "min            0.000000      0.000000  2.066726e+04  \n",
       "25%            0.000000      0.000000  1.030532e+05  \n",
       "50%            0.000000      0.000000  1.450179e+05  \n",
       "75%            1.000000      0.000000  2.034351e+05  \n",
       "max            4.000000      1.000000  2.265604e+06  "
      ]
     },
     "execution_count": 6,
     "metadata": {},
     "output_type": "execute_result"
    }
   ],
   "source": [
    "# некоторая статистиика данных:\n",
    "# count - количество не non-NA/null данных в каждом столбце\n",
    "# unique - количество уникальных значений\n",
    "# top - наиболее распространенное значение\n",
    "# freq - Частота наиболее распространенного значения\n",
    "#df.describe(include=\"all\")\n",
    "df.describe()"
   ]
  },
  {
   "cell_type": "markdown",
   "id": "d9cecca9-41dd-422d-a71b-1d26de06dfdc",
   "metadata": {},
   "source": [
    "### (count) Количество данных в столбцах не совпадает, т. е. в данных имеются пропуски.\n",
    "\n",
    "            children  days_employed  dob_years  education_id  family_status_id  debt    total_income\n",
    "    count   21525     19351          21525      21525         21525             21525   1.935100e+04"
   ]
  },
  {
   "cell_type": "code",
   "execution_count": 7,
   "id": "97c6c0f4-014f-431b-b75e-e1dd673537c3",
   "metadata": {},
   "outputs": [
    {
     "data": {
      "text/html": [
       "<div>\n",
       "<style scoped>\n",
       "    .dataframe tbody tr th:only-of-type {\n",
       "        vertical-align: middle;\n",
       "    }\n",
       "\n",
       "    .dataframe tbody tr th {\n",
       "        vertical-align: top;\n",
       "    }\n",
       "\n",
       "    .dataframe thead th {\n",
       "        text-align: right;\n",
       "    }\n",
       "</style>\n",
       "<table border=\"1\" class=\"dataframe\">\n",
       "  <thead>\n",
       "    <tr style=\"text-align: right;\">\n",
       "      <th></th>\n",
       "      <th>children</th>\n",
       "      <th>days_employed</th>\n",
       "      <th>dob_years</th>\n",
       "      <th>education</th>\n",
       "      <th>education_id</th>\n",
       "      <th>family_status</th>\n",
       "      <th>family_status_id</th>\n",
       "      <th>gender</th>\n",
       "      <th>income_type</th>\n",
       "      <th>debt</th>\n",
       "      <th>total_income</th>\n",
       "      <th>purpose</th>\n",
       "    </tr>\n",
       "  </thead>\n",
       "  <tbody>\n",
       "    <tr>\n",
       "      <th>0</th>\n",
       "      <td>1</td>\n",
       "      <td>-8437.673028</td>\n",
       "      <td>42</td>\n",
       "      <td>высшее</td>\n",
       "      <td>0</td>\n",
       "      <td>женат / замужем</td>\n",
       "      <td>0</td>\n",
       "      <td>F</td>\n",
       "      <td>сотрудник</td>\n",
       "      <td>0</td>\n",
       "      <td>253875.639453</td>\n",
       "      <td>покупка жилья</td>\n",
       "    </tr>\n",
       "    <tr>\n",
       "      <th>1</th>\n",
       "      <td>1</td>\n",
       "      <td>-4024.803754</td>\n",
       "      <td>36</td>\n",
       "      <td>среднее</td>\n",
       "      <td>1</td>\n",
       "      <td>женат / замужем</td>\n",
       "      <td>0</td>\n",
       "      <td>F</td>\n",
       "      <td>сотрудник</td>\n",
       "      <td>0</td>\n",
       "      <td>112080.014102</td>\n",
       "      <td>приобретение автомобиля</td>\n",
       "    </tr>\n",
       "    <tr>\n",
       "      <th>2</th>\n",
       "      <td>0</td>\n",
       "      <td>-5623.422610</td>\n",
       "      <td>33</td>\n",
       "      <td>Среднее</td>\n",
       "      <td>1</td>\n",
       "      <td>женат / замужем</td>\n",
       "      <td>0</td>\n",
       "      <td>M</td>\n",
       "      <td>сотрудник</td>\n",
       "      <td>0</td>\n",
       "      <td>145885.952297</td>\n",
       "      <td>покупка жилья</td>\n",
       "    </tr>\n",
       "    <tr>\n",
       "      <th>3</th>\n",
       "      <td>3</td>\n",
       "      <td>-4124.747207</td>\n",
       "      <td>32</td>\n",
       "      <td>среднее</td>\n",
       "      <td>1</td>\n",
       "      <td>женат / замужем</td>\n",
       "      <td>0</td>\n",
       "      <td>M</td>\n",
       "      <td>сотрудник</td>\n",
       "      <td>0</td>\n",
       "      <td>267628.550329</td>\n",
       "      <td>дополнительное образование</td>\n",
       "    </tr>\n",
       "    <tr>\n",
       "      <th>4</th>\n",
       "      <td>0</td>\n",
       "      <td>340266.072047</td>\n",
       "      <td>53</td>\n",
       "      <td>среднее</td>\n",
       "      <td>1</td>\n",
       "      <td>гражданский брак</td>\n",
       "      <td>1</td>\n",
       "      <td>F</td>\n",
       "      <td>пенсионер</td>\n",
       "      <td>0</td>\n",
       "      <td>158616.077870</td>\n",
       "      <td>сыграть свадьбу</td>\n",
       "    </tr>\n",
       "    <tr>\n",
       "      <th>5</th>\n",
       "      <td>0</td>\n",
       "      <td>-926.185831</td>\n",
       "      <td>27</td>\n",
       "      <td>высшее</td>\n",
       "      <td>0</td>\n",
       "      <td>гражданский брак</td>\n",
       "      <td>1</td>\n",
       "      <td>M</td>\n",
       "      <td>компаньон</td>\n",
       "      <td>0</td>\n",
       "      <td>255763.565419</td>\n",
       "      <td>покупка жилья</td>\n",
       "    </tr>\n",
       "    <tr>\n",
       "      <th>6</th>\n",
       "      <td>0</td>\n",
       "      <td>-2879.202052</td>\n",
       "      <td>43</td>\n",
       "      <td>высшее</td>\n",
       "      <td>0</td>\n",
       "      <td>женат / замужем</td>\n",
       "      <td>0</td>\n",
       "      <td>F</td>\n",
       "      <td>компаньон</td>\n",
       "      <td>0</td>\n",
       "      <td>240525.971920</td>\n",
       "      <td>операции с жильем</td>\n",
       "    </tr>\n",
       "    <tr>\n",
       "      <th>7</th>\n",
       "      <td>0</td>\n",
       "      <td>-152.779569</td>\n",
       "      <td>50</td>\n",
       "      <td>СРЕДНЕЕ</td>\n",
       "      <td>1</td>\n",
       "      <td>женат / замужем</td>\n",
       "      <td>0</td>\n",
       "      <td>M</td>\n",
       "      <td>сотрудник</td>\n",
       "      <td>0</td>\n",
       "      <td>135823.934197</td>\n",
       "      <td>образование</td>\n",
       "    </tr>\n",
       "    <tr>\n",
       "      <th>8</th>\n",
       "      <td>2</td>\n",
       "      <td>-6929.865299</td>\n",
       "      <td>35</td>\n",
       "      <td>ВЫСШЕЕ</td>\n",
       "      <td>0</td>\n",
       "      <td>гражданский брак</td>\n",
       "      <td>1</td>\n",
       "      <td>F</td>\n",
       "      <td>сотрудник</td>\n",
       "      <td>0</td>\n",
       "      <td>95856.832424</td>\n",
       "      <td>на проведение свадьбы</td>\n",
       "    </tr>\n",
       "    <tr>\n",
       "      <th>9</th>\n",
       "      <td>0</td>\n",
       "      <td>-2188.756445</td>\n",
       "      <td>41</td>\n",
       "      <td>среднее</td>\n",
       "      <td>1</td>\n",
       "      <td>женат / замужем</td>\n",
       "      <td>0</td>\n",
       "      <td>M</td>\n",
       "      <td>сотрудник</td>\n",
       "      <td>0</td>\n",
       "      <td>144425.938277</td>\n",
       "      <td>покупка жилья для семьи</td>\n",
       "    </tr>\n",
       "  </tbody>\n",
       "</table>\n",
       "</div>"
      ],
      "text/plain": [
       "   children  days_employed  dob_years education  education_id  \\\n",
       "0         1   -8437.673028         42    высшее             0   \n",
       "1         1   -4024.803754         36   среднее             1   \n",
       "2         0   -5623.422610         33   Среднее             1   \n",
       "3         3   -4124.747207         32   среднее             1   \n",
       "4         0  340266.072047         53   среднее             1   \n",
       "5         0    -926.185831         27    высшее             0   \n",
       "6         0   -2879.202052         43    высшее             0   \n",
       "7         0    -152.779569         50   СРЕДНЕЕ             1   \n",
       "8         2   -6929.865299         35    ВЫСШЕЕ             0   \n",
       "9         0   -2188.756445         41   среднее             1   \n",
       "\n",
       "      family_status  family_status_id gender income_type  debt   total_income  \\\n",
       "0   женат / замужем                 0      F   сотрудник     0  253875.639453   \n",
       "1   женат / замужем                 0      F   сотрудник     0  112080.014102   \n",
       "2   женат / замужем                 0      M   сотрудник     0  145885.952297   \n",
       "3   женат / замужем                 0      M   сотрудник     0  267628.550329   \n",
       "4  гражданский брак                 1      F   пенсионер     0  158616.077870   \n",
       "5  гражданский брак                 1      M   компаньон     0  255763.565419   \n",
       "6   женат / замужем                 0      F   компаньон     0  240525.971920   \n",
       "7   женат / замужем                 0      M   сотрудник     0  135823.934197   \n",
       "8  гражданский брак                 1      F   сотрудник     0   95856.832424   \n",
       "9   женат / замужем                 0      M   сотрудник     0  144425.938277   \n",
       "\n",
       "                      purpose  \n",
       "0               покупка жилья  \n",
       "1     приобретение автомобиля  \n",
       "2               покупка жилья  \n",
       "3  дополнительное образование  \n",
       "4             сыграть свадьбу  \n",
       "5               покупка жилья  \n",
       "6           операции с жильем  \n",
       "7                 образование  \n",
       "8       на проведение свадьбы  \n",
       "9     покупка жилья для семьи  "
      ]
     },
     "execution_count": 7,
     "metadata": {},
     "output_type": "execute_result"
    }
   ],
   "source": [
    "df.head(10)"
   ]
  },
  {
   "cell_type": "code",
   "execution_count": 8,
   "id": "1cc13728-af6a-465c-98a2-ff8ac9e4a280",
   "metadata": {},
   "outputs": [
    {
     "data": {
      "text/plain": [
       "children               0\n",
       "days_employed       2174\n",
       "dob_years              0\n",
       "education              0\n",
       "education_id           0\n",
       "family_status          0\n",
       "family_status_id       0\n",
       "gender                 0\n",
       "income_type            0\n",
       "debt                   0\n",
       "total_income        2174\n",
       "purpose                0\n",
       "dtype: int64"
      ]
     },
     "execution_count": 8,
     "metadata": {},
     "output_type": "execute_result"
    }
   ],
   "source": [
    "# Найдем количество пропущенных значений в таблице в каждом столбце:\n",
    "# вариант 1\n",
    "df.isnull().sum()"
   ]
  },
  {
   "cell_type": "code",
   "execution_count": 9,
   "id": "dadc5bb5-027b-41a1-b89e-a547975696d5",
   "metadata": {},
   "outputs": [
    {
     "data": {
      "text/plain": [
       "children               0\n",
       "days_employed       2174\n",
       "dob_years              0\n",
       "education              0\n",
       "education_id           0\n",
       "family_status          0\n",
       "family_status_id       0\n",
       "gender                 0\n",
       "income_type            0\n",
       "debt                   0\n",
       "total_income        2174\n",
       "purpose                0\n",
       "dtype: int64"
      ]
     },
     "execution_count": 9,
     "metadata": {},
     "output_type": "execute_result"
    }
   ],
   "source": [
    "# Найдем количество пропущенных значений в таблице в каждом столбце:\n",
    "# вариант 2\n",
    "df.isna().sum()"
   ]
  },
  {
   "cell_type": "code",
   "execution_count": 10,
   "id": "66797b89-0c15-4c60-954e-d823b14f3dcb",
   "metadata": {},
   "outputs": [
    {
     "data": {
      "text/plain": [
       "children            0.000000\n",
       "days_employed       0.100999\n",
       "dob_years           0.000000\n",
       "education           0.000000\n",
       "education_id        0.000000\n",
       "family_status       0.000000\n",
       "family_status_id    0.000000\n",
       "gender              0.000000\n",
       "income_type         0.000000\n",
       "debt                0.000000\n",
       "total_income        0.100999\n",
       "purpose             0.000000\n",
       "dtype: float64"
      ]
     },
     "execution_count": 10,
     "metadata": {},
     "output_type": "execute_result"
    }
   ],
   "source": [
    "# доля пропущенных значений\n",
    "df.isna().mean()"
   ]
  },
  {
   "cell_type": "code",
   "execution_count": 11,
   "id": "3a7c83f9-8776-4fe1-8114-7c51fe1525a6",
   "metadata": {},
   "outputs": [
    {
     "name": "stdout",
     "output_type": "stream",
     "text": [
      "Index(['children', 'days_employed', 'dob_years', 'education', 'education_id',\n",
      "       'family_status', 'family_status_id', 'gender', 'income_type', 'debt',\n",
      "       'total_income', 'purpose'],\n",
      "      dtype='object')\n"
     ]
    }
   ],
   "source": [
    "# Названия колонок/столбцов\n",
    "print(df.columns)"
   ]
  },
  {
   "cell_type": "markdown",
   "id": "9eaec232-0df8-47d5-9a02-8c0acc8ab599",
   "metadata": {},
   "source": [
    "### Названия столбцов не имеют замечаний к стилю записи и терминологии."
   ]
  },
  {
   "cell_type": "markdown",
   "id": "58a9ec06-1c5a-4945-873d-22c29fc690b0",
   "metadata": {},
   "source": [
    "## 2.1. Столбец children — количество детей в семье"
   ]
  },
  {
   "cell_type": "code",
   "execution_count": 12,
   "id": "e28e1816-4cfd-4286-89f1-0fa333e88719",
   "metadata": {},
   "outputs": [
    {
     "name": "stdout",
     "output_type": "stream",
     "text": [
      "тип:  int64\n",
      "пропущенных значений:  0\n",
      "уникальных значений, количество\n",
      " 0     14149\n",
      " 1      4818\n",
      " 2      2055\n",
      " 3       330\n",
      " 20       76\n",
      "-1        47\n",
      " 4        41\n",
      " 5         9\n",
      "Name: children, dtype: int64\n"
     ]
    }
   ],
   "source": [
    "# 2.1. children — количество детей в семье\n",
    "\n",
    "print('тип: ', df['children'].dtypes)\n",
    "print('пропущенных значений: ', df['children'].isnull().sum())\n",
    "#print(df['children'].unique())\n",
    "print('уникальных значений, количество')\n",
    "print(df['children'].value_counts())"
   ]
  },
  {
   "cell_type": "code",
   "execution_count": 13,
   "id": "85cf64fc-936e-4ec3-9802-f33f26917539",
   "metadata": {},
   "outputs": [
    {
     "name": "stdout",
     "output_type": "stream",
     "text": [
      "family_status — семейное положение, children — количество детей в семье:\n",
      "family_status\n",
      "Не женат / не замужем    14\n",
      "в разводе                 6\n",
      "вдовец / вдова            8\n",
      "гражданский брак         17\n",
      "женат / замужем          78\n",
      "Name: children, dtype: int64\n",
      "количество аномальных данных (123) к общему количеству: (21525)  0.005714285714285714\n"
     ]
    }
   ],
   "source": [
    "# небольшой анализ данных для принятия решения что делать с аномальными данными\n",
    "tmp_chi = df[(df['children']==20)|(df['children']==-1)]\n",
    "print('family_status — семейное положение, children — количество детей в семье:')\n",
    "print(tmp_chi[['family_status', 'children']].groupby(['family_status'])['children'].count().head())\n",
    "print(f'количество аномальных данных ({len(tmp_chi)}) к общему количеству: ({len(df)}) ', \n",
    "      len(tmp_chi)/len(df))"
   ]
  },
  {
   "cell_type": "markdown",
   "id": "45130033-cc83-4268-a976-dae76013d83a",
   "metadata": {},
   "source": [
    "### Столбец `children` имеет целочисленный тип, нет пропущенных значений, но содержит отрицательные и подозрительно большие положительные значения.\n",
    "\n",
    "### строки с аномальными значениями `20` и `-1` лучше удалить"
   ]
  },
  {
   "cell_type": "markdown",
   "id": "065a559c-6983-465c-8c47-ce9dcf432632",
   "metadata": {},
   "source": [
    "## 2.2. income_type — тип занятости"
   ]
  },
  {
   "cell_type": "code",
   "execution_count": 14,
   "id": "bf9de722-adfa-42d7-933b-da69d9b72a75",
   "metadata": {},
   "outputs": [
    {
     "name": "stdout",
     "output_type": "stream",
     "text": [
      "                 тип:  object\n",
      "пропущенных значений:  0\n",
      "сотрудник          11119\n",
      "компаньон           5085\n",
      "пенсионер           3856\n",
      "госслужащий         1459\n",
      "безработный            2\n",
      "предприниматель        2\n",
      "студент                1\n",
      "в декрете              1\n",
      "Name: income_type, dtype: int64\n",
      "['сотрудник' 'пенсионер' 'компаньон' 'госслужащий' 'безработный'\n",
      " 'предприниматель' 'студент' 'в декрете']\n"
     ]
    }
   ],
   "source": [
    "# 2.2. income_type — тип занятости\n",
    "\n",
    "print('                 тип: ', df['income_type'].dtypes)\n",
    "print('пропущенных значений: ', df['income_type'].isnull().sum())\n",
    "print(df['income_type'].value_counts())\n",
    "print(df['income_type'].unique())"
   ]
  },
  {
   "cell_type": "markdown",
   "id": "ac12b393-f00d-4d4b-bdf1-af6f25626054",
   "metadata": {},
   "source": [
    "### Столбец `income_type` нет аномалий"
   ]
  },
  {
   "cell_type": "markdown",
   "id": "fbcbfbb8-5c10-466e-b005-59bca28f3925",
   "metadata": {},
   "source": [
    "## 2.3. total_income — ежемесячный доход"
   ]
  },
  {
   "cell_type": "code",
   "execution_count": 15,
   "id": "3b2774e1-a444-4d51-8b85-00e09a08be82",
   "metadata": {},
   "outputs": [
    {
     "name": "stdout",
     "output_type": "stream",
     "text": [
      "                 тип:  float64\n",
      "пропущенных значений:  2174\n",
      "         минимальное:  20667.26379327158\n",
      "        максимальное:  2265604.028722744\n"
     ]
    }
   ],
   "source": [
    "# 2.3. total_income — ежемесячный доход\n",
    "\n",
    "print('                 тип: ', df['total_income'].dtypes)\n",
    "print('пропущенных значений: ', df['total_income'].isnull().sum())\n",
    "print('         минимальное: ', df['total_income'].min())\n",
    "print('        максимальное: ', df['total_income'].max())"
   ]
  },
  {
   "cell_type": "markdown",
   "id": "499584c8-8f20-487c-aec0-d354e43d6195",
   "metadata": {},
   "source": [
    "### Столбец `total_income` имеет 2174 пропуска значений"
   ]
  },
  {
   "cell_type": "code",
   "execution_count": 16,
   "id": "05f0acb7-db48-48e2-a9fd-1c8399cde9e0",
   "metadata": {},
   "outputs": [
    {
     "data": {
      "text/plain": [
       "<Axes: >"
      ]
     },
     "execution_count": 16,
     "metadata": {},
     "output_type": "execute_result"
    },
    {
     "data": {
      "image/png": "[encoded data removed]",
      "text/plain": [
       "<Figure size 2000x500 with 1 Axes>"
      ]
     },
     "metadata": {},
     "output_type": "display_data"
    }
   ],
   "source": [
    "_, ax = plt.subplots(ncols=1, nrows=1, figsize=(20, 5))\n",
    "df['total_income'].hist(bins=100, ax=ax)"
   ]
  },
  {
   "cell_type": "markdown",
   "id": "60d6c109-5d1f-46be-81a1-bd2168043d3b",
   "metadata": {},
   "source": [
    "## 2.4. Столбец days_employed — общий трудовой стаж в днях"
   ]
  },
  {
   "cell_type": "code",
   "execution_count": 17,
   "id": "3008f373-9d18-41c7-931c-cd9fc668aa3b",
   "metadata": {},
   "outputs": [
    {
     "name": "stdout",
     "output_type": "stream",
     "text": [
      "                 тип:  float64\n",
      "пропущенных значений:  2174\n"
     ]
    },
    {
     "data": {
      "text/plain": [
       "count     19351.000000\n",
       "mean      63046.497661\n",
       "std      140827.311974\n",
       "min      -18388.949901\n",
       "25%       -2747.423625\n",
       "50%       -1203.369529\n",
       "75%        -291.095954\n",
       "max      401755.400475\n",
       "Name: days_employed, dtype: float64"
      ]
     },
     "execution_count": 17,
     "metadata": {},
     "output_type": "execute_result"
    }
   ],
   "source": [
    "# 2.4. days_employed — общий трудовой стаж в днях\n",
    "\n",
    "print('                 тип: ', df['days_employed'].dtypes)\n",
    "print('пропущенных значений: ', df['days_employed'].isnull().sum())\n",
    "\n",
    "df['days_employed'].describe()"
   ]
  },
  {
   "cell_type": "code",
   "execution_count": 18,
   "id": "45080948-c7e7-453f-b38f-4000e9abbbce",
   "metadata": {},
   "outputs": [
    {
     "data": {
      "text/plain": [
       "<Axes: >"
      ]
     },
     "execution_count": 18,
     "metadata": {},
     "output_type": "execute_result"
    },
    {
     "data": {
      "image/png": "[encoded data removed]",
      "text/plain": [
       "<Figure size 2000x500 with 1 Axes>"
      ]
     },
     "metadata": {},
     "output_type": "display_data"
    }
   ],
   "source": [
    "_, ax = plt.subplots(ncols=1, nrows=1, figsize=(20, 5))\n",
    "df['days_employed'].hist(bins=100, ax=ax)"
   ]
  },
  {
   "cell_type": "code",
   "execution_count": 19,
   "id": "4f606309-c44c-4282-a7b6-e5324bc7d8f1",
   "metadata": {},
   "outputs": [],
   "source": [
    "# переводим отрицательные значения в положительные\n",
    "#df['days_employed'] = df['days_employed'].apply(lambda x: abs(x))\n"
   ]
  },
  {
   "cell_type": "markdown",
   "id": "9b99a6c0-e7d1-457d-99c0-e08288d6ec6a",
   "metadata": {},
   "source": [
    "### Столбец `days_employed` имеет тип вещественных чисел и содержит положительные, отрицательные значения и пропуски. Всего 2174 пропущенных значения. <br> Положительные значения в этой категории слишком большие для исчисления в днях. <br> Разброс значений очень большой."
   ]
  },
  {
   "cell_type": "markdown",
   "id": "31b7a3c4-ed77-4a2d-a978-2629f2406a61",
   "metadata": {},
   "source": [
    "## 2.5. dob_years — возраст клиента в годах"
   ]
  },
  {
   "cell_type": "code",
   "execution_count": 20,
   "id": "28adcbff-9f75-47ce-8a9a-06c6d48f24fd",
   "metadata": {},
   "outputs": [
    {
     "name": "stdout",
     "output_type": "stream",
     "text": [
      "                 тип:  int64\n",
      "пропущенных значений:  0\n",
      "уникальных значений:\n",
      "[ 0 19 20 21 22 23 24 25 26 27 28 29 30 31 32 33 34 35 36 37 38 39 40 41\n",
      " 42 43 44 45 46 47 48 49 50 51 52 53 54 55 56 57 58 59 60 61 62 63 64 65\n",
      " 66 67 68 69 70 71 72 73 74 75]\n",
      "количество нулевых (т.е. возраст = 0):  101\n"
     ]
    }
   ],
   "source": [
    "# 2.5. dob_years — возраст клиента в годах\n",
    "\n",
    "print('                 тип: ', df['dob_years'].dtypes)\n",
    "print('пропущенных значений: ', df['dob_years'].isnull().sum())\n",
    "print('уникальных значений:')\n",
    "print(df['dob_years'].sort_values(ascending=True).unique())\n",
    "print('количество нулевых (т.е. возраст = 0): ', len(df[df['dob_years']==0]))"
   ]
  },
  {
   "cell_type": "markdown",
   "id": "ac47af15-f331-45d6-95d1-e4ccb146b15e",
   "metadata": {},
   "source": [
    "### Столбец `dob_years` имеет целочисленный тип, но содержит значение 0, что противоречит здравому смыслу. Можно предположить, что 0 - значение по умолчанию при отсутствии информации в соответствующем разделе анкеты.\n"
   ]
  },
  {
   "cell_type": "markdown",
   "id": "64094985-a082-4ec1-b8a8-8e1814398bd8",
   "metadata": {},
   "source": [
    "## 2.6. education — уровень образования клиента"
   ]
  },
  {
   "cell_type": "code",
   "execution_count": 21,
   "id": "13fde917-c3a5-4ac0-9c97-e88608129e65",
   "metadata": {},
   "outputs": [
    {
     "name": "stdout",
     "output_type": "stream",
     "text": [
      "                 тип:  object\n",
      "пропущенных значений:  0\n",
      "среднее                13750\n",
      "высшее                  4718\n",
      "СРЕДНЕЕ                  772\n",
      "Среднее                  711\n",
      "неоконченное высшее      668\n",
      "ВЫСШЕЕ                   274\n",
      "Высшее                   268\n",
      "начальное                250\n",
      "Неоконченное высшее       47\n",
      "НЕОКОНЧЕННОЕ ВЫСШЕЕ       29\n",
      "НАЧАЛЬНОЕ                 17\n",
      "Начальное                 15\n",
      "ученая степень             4\n",
      "Ученая степень             1\n",
      "УЧЕНАЯ СТЕПЕНЬ             1\n",
      "Name: education, dtype: int64\n"
     ]
    }
   ],
   "source": [
    "# 2.6. education — уровень образования клиента\n",
    "# education_id — идентификатор уровня образования\n",
    "\n",
    "print('                 тип: ', df['education'].dtypes)\n",
    "print('пропущенных значений: ', df['education'].isnull().sum())\n",
    "print(df['education'].value_counts())"
   ]
  },
  {
   "cell_type": "markdown",
   "id": "03d88582-592b-4b1c-ae96-3de8411fa69d",
   "metadata": {},
   "source": [
    "### Столбец `education` содержит неявные дубликаты в виде записей, выполненных в разных регистрах возможно данные вводились вручную.\n",
    "Столбец `education` — уровень образования клиента и `education_id` — идентификатор уровня образования практически дублируют друг друга.   "
   ]
  },
  {
   "cell_type": "markdown",
   "id": "a6c76cdb-ce94-4e89-862b-e0d80cbdc394",
   "metadata": {},
   "source": [
    "## 2.7. family_status — семейное положение"
   ]
  },
  {
   "cell_type": "code",
   "execution_count": 22,
   "id": "666cc6fc-19c1-4db5-9ab5-35b48cd0c6e4",
   "metadata": {},
   "outputs": [
    {
     "name": "stdout",
     "output_type": "stream",
     "text": [
      "                 тип:  object\n",
      "пропущенных значений:  0\n",
      "женат / замужем          12380\n",
      "гражданский брак          4177\n",
      "Не женат / не замужем     2813\n",
      "в разводе                 1195\n",
      "вдовец / вдова             960\n",
      "Name: family_status, dtype: int64\n",
      "['женат / замужем' 'гражданский брак' 'вдовец / вдова' 'в разводе'\n",
      " 'Не женат / не замужем']\n"
     ]
    }
   ],
   "source": [
    "# 2.7. family_status — семейное положение\n",
    "# family_status_id — идентификатор семейного положения\n",
    "\n",
    "print('                 тип: ', df['family_status'].dtypes)\n",
    "print('пропущенных значений: ', df['family_status'].isnull().sum())\n",
    "print(df['family_status'].value_counts())\n",
    "print (df['family_status'].unique())"
   ]
  },
  {
   "cell_type": "markdown",
   "id": "1a556fd6-3855-44f1-b9cc-c220adf6b6c5",
   "metadata": {},
   "source": [
    "### Столбец `family_status` имеет значения начинающиеся с прописной буквы.\n",
    "Столбец `family_status` — семейное положение и `family_status_id` — идентификатор семейного положения дублируют друг друга.    "
   ]
  },
  {
   "cell_type": "markdown",
   "id": "a357a677-bdd6-4217-a832-e4865f46e255",
   "metadata": {},
   "source": [
    "## 2.8. gender — пол клиента"
   ]
  },
  {
   "cell_type": "code",
   "execution_count": 23,
   "id": "d6f842ab-fade-4f94-87a4-21001c21b229",
   "metadata": {},
   "outputs": [
    {
     "name": "stdout",
     "output_type": "stream",
     "text": [
      "                 тип:  object\n",
      "пропущенных значений:  0\n",
      "F      14236\n",
      "M       7288\n",
      "XNA        1\n",
      "Name: gender, dtype: int64\n",
      "['F' 'M' 'XNA']\n"
     ]
    }
   ],
   "source": [
    "# 2.8. gender — пол клиента\n",
    "\n",
    "print('                 тип: ', df['gender'].dtypes)\n",
    "print('пропущенных значений: ', df['gender'].isnull().sum())\n",
    "print(df['gender'].value_counts())\n",
    "print(df['gender'].unique())"
   ]
  },
  {
   "cell_type": "markdown",
   "id": "0c42a0e6-2713-4f56-8b39-9133c328e231",
   "metadata": {},
   "source": [
    "### Столбец `gender` содержит нетипичные записи 'XNA'."
   ]
  },
  {
   "cell_type": "markdown",
   "id": "ccbecdfe-4565-4d36-a2be-d09e37fc2176",
   "metadata": {},
   "source": [
    "## 2.9. debt — имел ли задолженность по возврату кредитов"
   ]
  },
  {
   "cell_type": "code",
   "execution_count": 24,
   "id": "e1f30ad4-810b-4f0e-8bc1-3ceebef89f27",
   "metadata": {},
   "outputs": [
    {
     "name": "stdout",
     "output_type": "stream",
     "text": [
      "                 тип:  int64\n",
      "пропущенных значений:  0\n",
      "0    19784\n",
      "1     1741\n",
      "Name: debt, dtype: int64\n",
      "[0 1]\n"
     ]
    }
   ],
   "source": [
    "# 2.9. debt — имел ли задолженность по возврату кредитов\n",
    "\n",
    "print('                 тип: ', df['debt'].dtypes)\n",
    "print('пропущенных значений: ', df['debt'].isnull().sum())\n",
    "print(df['debt'].value_counts())\n",
    "print(df['debt'].unique())"
   ]
  },
  {
   "cell_type": "markdown",
   "id": "d3f79468-1d17-4ca2-8dd4-907760b76050",
   "metadata": {},
   "source": [
    "### Столбец `debt` нет аномалий"
   ]
  },
  {
   "cell_type": "markdown",
   "id": "0c5cdf70-1f31-495e-a9e2-684da221c59f",
   "metadata": {},
   "source": [
    "## 2.10. purpose — цель получения кредита"
   ]
  },
  {
   "cell_type": "code",
   "execution_count": 25,
   "id": "cdaac6ec-6b50-4c58-a226-7da84b0ab025",
   "metadata": {},
   "outputs": [
    {
     "name": "stdout",
     "output_type": "stream",
     "text": [
      "                 тип:  object\n",
      "пропущенных значений:  0\n",
      "свадьба                                   797\n",
      "на проведение свадьбы                     777\n",
      "сыграть свадьбу                           774\n",
      "операции с недвижимостью                  676\n",
      "покупка коммерческой недвижимости         664\n",
      "покупка жилья для сдачи                   653\n",
      "операции с жильем                         653\n",
      "операции с коммерческой недвижимостью     651\n",
      "покупка жилья                             647\n",
      "жилье                                     647\n",
      "покупка жилья для семьи                   641\n",
      "строительство собственной недвижимости    635\n",
      "недвижимость                              634\n",
      "операции со своей недвижимостью           630\n",
      "строительство жилой недвижимости          626\n",
      "покупка недвижимости                      624\n",
      "строительство недвижимости                620\n",
      "покупка своего жилья                      620\n",
      "ремонт жилью                              612\n",
      "покупка жилой недвижимости                607\n",
      "на покупку своего автомобиля              505\n",
      "заняться высшим образованием              496\n",
      "автомобиль                                495\n",
      "сделка с подержанным автомобилем          489\n",
      "свой автомобиль                           480\n",
      "на покупку подержанного автомобиля        479\n",
      "автомобили                                478\n",
      "на покупку автомобиля                     472\n",
      "дополнительное образование                462\n",
      "приобретение автомобиля                   462\n",
      "сделка с автомобилем                      455\n",
      "высшее образование                        453\n",
      "образование                               447\n",
      "получение дополнительного образования     447\n",
      "получение образования                     443\n",
      "профильное образование                    436\n",
      "получение высшего образования             426\n",
      "заняться образованием                     412\n",
      "Name: purpose, dtype: int64\n",
      "['покупка жилья' 'приобретение автомобиля' 'дополнительное образование'\n",
      " 'сыграть свадьбу' 'операции с жильем' 'образование'\n",
      " 'на проведение свадьбы' 'покупка жилья для семьи' 'покупка недвижимости'\n",
      " 'покупка коммерческой недвижимости' 'покупка жилой недвижимости'\n",
      " 'строительство собственной недвижимости' 'недвижимость'\n",
      " 'строительство недвижимости' 'на покупку подержанного автомобиля'\n",
      " 'на покупку своего автомобиля' 'операции с коммерческой недвижимостью'\n",
      " 'строительство жилой недвижимости' 'жилье'\n",
      " 'операции со своей недвижимостью' 'автомобили' 'заняться образованием'\n",
      " 'сделка с подержанным автомобилем' 'получение образования' 'автомобиль'\n",
      " 'свадьба' 'получение дополнительного образования' 'покупка своего жилья'\n",
      " 'операции с недвижимостью' 'получение высшего образования'\n",
      " 'свой автомобиль' 'сделка с автомобилем' 'профильное образование'\n",
      " 'высшее образование' 'покупка жилья для сдачи' 'на покупку автомобиля'\n",
      " 'ремонт жилью' 'заняться высшим образованием']\n"
     ]
    }
   ],
   "source": [
    "# 2.10. purpose — цель получения кредита\n",
    "\n",
    "print('                 тип: ', df['purpose'].dtypes)\n",
    "print('пропущенных значений: ', df['purpose'].isnull().sum())\n",
    "print(df['purpose'].value_counts())\n",
    "print(df['purpose'].unique())"
   ]
  },
  {
   "cell_type": "markdown",
   "id": "0b047628-20f6-43a2-ba6b-5c50181caf31",
   "metadata": {},
   "source": [
    "### Столбец `purpose` содержит множество неявных дубликатов, записанных под разными значениями в следствие ручного ввода."
   ]
  },
  {
   "cell_type": "code",
   "execution_count": 26,
   "id": "b37384e6-057a-4e66-aa94-dfc4b3fa6547",
   "metadata": {},
   "outputs": [],
   "source": [
    "df2 = df.copy()\n",
    "#print(len(df), len(df2))"
   ]
  },
  {
   "cell_type": "markdown",
   "id": "0762d2a1-6633-4b72-a476-cc27d100a94d",
   "metadata": {},
   "source": [
    "## Step 3: Data preprocessing"
   ]
  },
  {
   "cell_type": "code",
   "execution_count": 27,
   "id": "69ee5408-a87b-4fec-9fae-75f0e8f3e144",
   "metadata": {},
   "outputs": [
    {
     "name": "stdout",
     "output_type": "stream",
     "text": [
      "21525 21525\n"
     ]
    }
   ],
   "source": [
    "# 3.1. children — количество детей в семье\n",
    "\n",
    "# переводим отрицательные значения в положительные.\n",
    "# ранее было принято решение записи с аномалными данными `20` и `-1` - удалить\n",
    "#df2.drop(df2[(df2['children']==20)|(df2['children']==-1)].index, inplace = True)\n",
    "#_ = df2.reset_index(drop=True, inplace=True)\n",
    "#print(df2['children'].value_counts())\n",
    "df2['children'] = df2['children'].abs()\n",
    "\n",
    "print(len(df), len(df2))"
   ]
  },
  {
   "cell_type": "code",
   "execution_count": 28,
   "id": "9ab4ed6e-c875-4c77-b09c-c0f2f85ccd68",
   "metadata": {},
   "outputs": [],
   "source": [
    "# 3.2. income_type — тип занятости"
   ]
  },
  {
   "cell_type": "code",
   "execution_count": 29,
   "id": "5703173c-99b8-4a2f-aadc-005d45fdf9c5",
   "metadata": {},
   "outputs": [
    {
     "name": "stdout",
     "output_type": "stream",
     "text": [
      "пропущенных значений:  0\n"
     ]
    }
   ],
   "source": [
    "# 3.3. total_income — ежемесячный доход\n",
    "\n",
    "# заполним медианой на основании группировок двух характеристик (столбцов `children` и `income_type`) \n",
    "df2['total_income'] = df2['total_income'].fillna(df2.groupby(['income_type', 'children'])['total_income'].transform('median'))\n",
    "#df2['total_income']\n",
    "print('пропущенных значений: ', df2['total_income'].isnull().sum())"
   ]
  },
  {
   "cell_type": "code",
   "execution_count": 30,
   "id": "3a976356-80d7-4a56-96fe-fbc36451ce1e",
   "metadata": {},
   "outputs": [
    {
     "name": "stdout",
     "output_type": "stream",
     "text": [
      "пропущенных значений:  2174\n",
      "пропущенных значений:  0\n"
     ]
    }
   ],
   "source": [
    "# 3.4. days_employed — общий трудовой стаж в днях\n",
    "\n",
    "print('пропущенных значений: ', df2['days_employed'].isnull().sum())\n",
    "\n",
    "# переводим отрицательные значения в положительные\n",
    "df2['days_employed'] = df2['days_employed'].apply(lambda x: abs(x))\n",
    "\n",
    "# заполним/заменим медианой, в группировке с 2-мя характеристикам клиента\n",
    "df2['days_employed'] = df2['days_employed'].fillna(df2.groupby(['income_type','children'])['days_employed'].transform('median'))\n",
    "\n",
    "print('пропущенных значений: ', df2['days_employed'].isnull().sum())\n"
   ]
  },
  {
   "cell_type": "code",
   "execution_count": 31,
   "id": "70524a81-40b0-4d03-a9eb-41740df0390c",
   "metadata": {},
   "outputs": [],
   "source": [
    "# меняем тип с вешественного на целочисленный тип\n",
    "df2['days_employed'] = df2['days_employed'].astype('int')\n"
   ]
  },
  {
   "cell_type": "code",
   "execution_count": 32,
   "id": "11498203-aa98-409c-8ea4-e586b8b75248",
   "metadata": {},
   "outputs": [
    {
     "data": {
      "text/plain": [
       "count    21525.000000\n",
       "mean        43.293380\n",
       "std         12.574584\n",
       "min          0.000000\n",
       "25%         33.000000\n",
       "50%         42.000000\n",
       "75%         53.000000\n",
       "max         75.000000\n",
       "Name: dob_years, dtype: float64"
      ]
     },
     "execution_count": 32,
     "metadata": {},
     "output_type": "execute_result"
    }
   ],
   "source": [
    "# 3.5. dob_years — возраст клиента в годах\n",
    "\n",
    "#print('пропущенных значений: ', df2['dob_years'].isnull().sum())\n",
    "df2['dob_years'].describe()"
   ]
  },
  {
   "cell_type": "code",
   "execution_count": 33,
   "id": "e57dec2d-a048-4d03-aee6-8433d0df9970",
   "metadata": {},
   "outputs": [],
   "source": [
    "# 3.5. dob_years — возраст клиента в годах\n",
    "\n",
    "# вариант 1.  заполним/заменим медианой, в группировке с 2-мя характеристикам клиента\n",
    "df2['dob_years'] = (df2.groupby(['income_type', 'children'])['dob_years'].apply(lambda x: x.replace(0, x.median())))\n",
    "\n",
    "# вариант 2.  удалим записи с нулевым значением в `dob_years`\n",
    "#df2 = df2[df2['dob_years'] != 0]"
   ]
  },
  {
   "cell_type": "code",
   "execution_count": 34,
   "id": "74b3daa6-f062-4fa9-b82b-4bf387e181e8",
   "metadata": {},
   "outputs": [
    {
     "data": {
      "text/plain": [
       "count    21525.000000\n",
       "mean        43.500581\n",
       "std         12.231907\n",
       "min         19.000000\n",
       "25%         34.000000\n",
       "50%         43.000000\n",
       "75%         53.000000\n",
       "max         75.000000\n",
       "Name: dob_years, dtype: float64"
      ]
     },
     "execution_count": 34,
     "metadata": {},
     "output_type": "execute_result"
    }
   ],
   "source": [
    "df2['dob_years'].describe()"
   ]
  },
  {
   "cell_type": "code",
   "execution_count": 35,
   "id": "39049358-8dbb-4bc8-b0c5-6685344fd76e",
   "metadata": {},
   "outputs": [],
   "source": [
    "# 3.6. education — уровень образования клиента\n",
    "# education_id — идентификатор уровня образования\n",
    "\n",
    "# приведем все значения к одному регистру\n",
    "df2['education'] = df2['education'].apply(lambda x: x.lower())\n",
    "\n",
    "#print(df2['education'].value_counts())"
   ]
  },
  {
   "cell_type": "code",
   "execution_count": 36,
   "id": "17012680-5904-45b2-946a-a4c4b03d3ad6",
   "metadata": {},
   "outputs": [],
   "source": [
    "# 3.7. family_status — семейное положение\n",
    "# family_status_id — идентификатор семейного положения\n",
    "# приведем все значения к одному регистру\n",
    "\n",
    "df2['family_status'] = df2['family_status'].apply(lambda x: x.lower())\n",
    "#print(df2['family_status'].value_counts())"
   ]
  },
  {
   "cell_type": "code",
   "execution_count": 37,
   "id": "2a45123b-1736-4a7f-93b9-5c8da46b823c",
   "metadata": {},
   "outputs": [],
   "source": [
    "# 3.8. gender — пол клиента\n",
    "\n",
    "# заменим значение 'XNA' на любое 'F' или 'M'\n",
    "df2['gender'] = df2['gender'].apply(lambda x: x.replace('XNA', 'F'))\n",
    "\n",
    "#print(df2['gender'].value_counts())"
   ]
  },
  {
   "cell_type": "code",
   "execution_count": 38,
   "id": "214f8536-b9cf-43eb-a50b-707b815e7ff7",
   "metadata": {},
   "outputs": [],
   "source": [
    "# 3.9. debt — имел ли задолженность по возврату кредитов\n"
   ]
  },
  {
   "cell_type": "code",
   "execution_count": 39,
   "id": "9a567ca5-943f-4bc1-a147-240b8b57246f",
   "metadata": {},
   "outputs": [
    {
     "name": "stdout",
     "output_type": "stream",
     "text": [
      "   кол-во дублирующих записей до:  71\n",
      "кол-во дублирующих записей после:  0\n",
      "CPU times: total: 46.9 ms\n",
      "Wall time: 42 ms\n"
     ]
    }
   ],
   "source": [
    "%%time\n",
    "# 3.10. Удаление дубликатов:\n",
    "\n",
    "print('   кол-во дублирующих записей до: ', df2.duplicated().sum())\n",
    "\n",
    "# удаление дублирующих запмсей\n",
    "df2 = df2.drop_duplicates().reset_index(drop=True)\n",
    "\n",
    "print('кол-во дублирующих записей после: ', df2.duplicated().sum())"
   ]
  },
  {
   "cell_type": "markdown",
   "id": "534f4961-7af8-4e3b-b627-441f186fbaca",
   "metadata": {},
   "source": [
    "# 3.11. purpose — цель получения кредита\n",
    "Для выделения уникальных значений в столбце 'purpose' применим лематизацию\n",
    "\n",
    "Цель: свести все значения в столбце `purpose` к однозначному единственному значению.      \n",
    "для этого выполним некоторые монипуляции с текстовыми значениями столбца `purpose`- токенизация, удаление стоп слов, удаление коротких слов (менее 4 символов) лемматизация (приведение слов к одному корню) и составление словара уникальных слов."
   ]
  },
  {
   "cell_type": "code",
   "execution_count": 40,
   "id": "3b64cff7-b612-4741-a83e-cc4dda185d50",
   "metadata": {},
   "outputs": [],
   "source": [
    "#print(df2['purpose'].unique())\n",
    "#list_purpose =  df2['purpose'].unique()\n",
    "#print(len(list_purpose), list_purpose)\n",
    "#str_purpose = ' '.join(list_purpose)\n",
    "#print(type(str_purpose), len(str_purpose), str_purpose)"
   ]
  },
  {
   "cell_type": "code",
   "execution_count": 41,
   "id": "41cc0678-4443-4207-8c11-496938bbfc4f",
   "metadata": {},
   "outputs": [],
   "source": [
    "%load_ext autoreload\n",
    "%autoreload 2\n",
    "\n",
    "import sys\n",
    "sys.path.append('e:\\\\_data_set\\\\utils_nlp\\\\')\n",
    "import nlp_utils\n",
    "from nlp_utils.data_preparation import preprocessor\n",
    "from nlp_utils.data_preparation import tokenize_corpus, build_vocabulary, texts_to_token_ids\n",
    "from nlp_utils.data_preparation import lemmatize_list, lemmatize_corpus"
   ]
  },
  {
   "cell_type": "code",
   "execution_count": 42,
   "id": "2d3ab75d-9a8b-4590-ba8f-7d97e79ed507",
   "metadata": {},
   "outputs": [],
   "source": [
    "# токенизируем\n",
    "#str_purpose_tokenized = tokenize_corpus([str_purpose])\n",
    "#print(len(str_purpose_tokenized), str_purpose_tokenized)\n",
    "#str_purpose_tokenized\n",
    "#purpose_lemmatize = lemmatize_corpus(str_purpose_tokenized)\n",
    "#purpose_lemmatize"
   ]
  },
  {
   "cell_type": "code",
   "execution_count": 43,
   "id": "ef84e304-c24d-409a-b374-ba6dbc0ce68f",
   "metadata": {},
   "outputs": [
    {
     "name": "stdout",
     "output_type": "stream",
     "text": [
      "['покупка жилья', 'приобретение автомобиля', 'покупка жилья']\n",
      "[['покупка', 'жилья'], ['приобретение', 'автомобиля'], ['покупка', 'жилья']]\n"
     ]
    },
    {
     "name": "stderr",
     "output_type": "stream",
     "text": [
      "lematization: 100%|██████████████████████████████████████████████████████████| 21454/21454 [00:06<00:00, 3385.51it/s]"
     ]
    },
    {
     "name": "stdout",
     "output_type": "stream",
     "text": [
      "21454 [['покупка', 'жильё'], ['приобретение', 'автомобиль'], ['покупка', 'жильё']]\n",
      "CPU times: total: 6.34 s\n",
      "Wall time: 6.39 s\n"
     ]
    },
    {
     "name": "stderr",
     "output_type": "stream",
     "text": [
      "\n"
     ]
    }
   ],
   "source": [
    "%%time\n",
    "\n",
    "# использовать только такой вариант построения списка (Remove missing values):\n",
    "dataset_v5 = list(df2['purpose'].dropna())\n",
    "print(dataset_v5[ :3])\n",
    "\n",
    "# токенизируем\n",
    "train_tokenized = tokenize_corpus(dataset_v5)\n",
    "print(train_tokenized[:3])\n",
    "\n",
    "# лемматизация, такой вариант работает 3-4 минуты (Intel Core i5 11400, 12 потоков)\n",
    "train_lematize_ = lemmatize_corpus(train_tokenized)\n",
    "print(len(train_lematize_), train_lematize_[:3])"
   ]
  },
  {
   "cell_type": "code",
   "execution_count": 44,
   "id": "645a4929-e6f2-4ad0-90ca-ae9694ce2811",
   "metadata": {},
   "outputs": [
    {
     "name": "stdout",
     "output_type": "stream",
     "text": [
      "Number of cpu :  12\n"
     ]
    },
    {
     "name": "stderr",
     "output_type": "stream",
     "text": [
      "100%|███████████████████████████████████████████████████████████████████████| 21454/21454 [00:01<00:00, 10934.77it/s]\n"
     ]
    },
    {
     "name": "stdout",
     "output_type": "stream",
     "text": [
      "21454\n",
      "[['покупка', 'жильё'], ['приобретение', 'автомобиль'], ['покупка', 'жильё']]\n",
      "CPU times: total: 781 ms\n",
      "Wall time: 2.4 s\n"
     ]
    }
   ],
   "source": [
    "%%time\n",
    "# train_tokenized - список для лематизации\n",
    "\n",
    "from tqdm import tqdm \n",
    "import pymorphy2\n",
    "morph = pymorphy2.MorphAnalyzer()\n",
    "#import multiprocessing\n",
    "# multiprocessing для jupyter notebook:\n",
    "import multiprocess\n",
    "\n",
    "# лемматизация\n",
    "def lemmatize_list_(sentence_list):\n",
    "    return [morph.parse(tok)[0].normal_form for tok in sentence_list]\n",
    "    \n",
    "def lemmatize_corpus_(tokens):\n",
    "    #return [morph.parse(tok)[0].normal_form for tok in tokens]\n",
    "    train_lematize = []\n",
    "    for sentence in tokens:\n",
    "        train_lematize.append(lemmatize_list_(sentence))    \n",
    "    return train_lematize\n",
    "\n",
    "# без главного модуля многопоточность не работает....\n",
    "if __name__ == '__main__':    \n",
    "    try:\n",
    "        cpus = multiprocess.cpu_count()\n",
    "    except NotImplementedError:\n",
    "        cpus = 2   # arbitrary default\n",
    "    print(\"Number of cpu : \", multiprocess.cpu_count())\n",
    "\n",
    "    pool = multiprocess.Pool(processes=cpus)\n",
    "\n",
    "    train_lematize = []\n",
    "    \"\"\" \"\"\"\n",
    "    #processes=cpus\n",
    "    #with multiprocessing.Pool(processes=6) as pool:\n",
    "    with multiprocess.Pool(processes=cpus) as pool:\n",
    "        #                                            размер фрагмента: chunksize=100.\n",
    "        for result in tqdm(pool.imap(lemmatize_list, train_tokenized, chunksize=100), total=len(train_tokenized)):\n",
    "            train_lematize.append(result)\n",
    "            \n",
    "        # shutdown the process pool\n",
    "        pool.close()\n",
    "        # wait for all issued task to complete\n",
    "        pool.join()\n",
    "            \n",
    "    print(len(train_lematize))        \n",
    "    print(train_lematize[0:3])\n",
    "            "
   ]
  },
  {
   "cell_type": "code",
   "execution_count": 45,
   "id": "16fc0eae-54d8-43c1-8b9c-4c765c8783fc",
   "metadata": {},
   "outputs": [],
   "source": [
    "# вариант 1\n",
    "# df2['purpose_lemma'] = np.array([' '.join(lst) for lst in train_lematize])\n",
    "\n",
    "# вариант 2\n",
    "se_purpose_lemma = pd.Series([' '.join(lst) for lst in train_lematize])\n",
    "df2['purpose_lemma'] = se_purpose_lemma.values"
   ]
  },
  {
   "cell_type": "code",
   "execution_count": 46,
   "id": "f9d97346-4b05-4612-aaea-04217bef1362",
   "metadata": {},
   "outputs": [
    {
     "data": {
      "text/html": [
       "<div>\n",
       "<style scoped>\n",
       "    .dataframe tbody tr th:only-of-type {\n",
       "        vertical-align: middle;\n",
       "    }\n",
       "\n",
       "    .dataframe tbody tr th {\n",
       "        vertical-align: top;\n",
       "    }\n",
       "\n",
       "    .dataframe thead th {\n",
       "        text-align: right;\n",
       "    }\n",
       "</style>\n",
       "<table border=\"1\" class=\"dataframe\">\n",
       "  <thead>\n",
       "    <tr style=\"text-align: right;\">\n",
       "      <th></th>\n",
       "      <th>purpose</th>\n",
       "      <th>purpose_lemma</th>\n",
       "    </tr>\n",
       "  </thead>\n",
       "  <tbody>\n",
       "    <tr>\n",
       "      <th>0</th>\n",
       "      <td>покупка жилья</td>\n",
       "      <td>покупка жильё</td>\n",
       "    </tr>\n",
       "    <tr>\n",
       "      <th>1</th>\n",
       "      <td>приобретение автомобиля</td>\n",
       "      <td>приобретение автомобиль</td>\n",
       "    </tr>\n",
       "    <tr>\n",
       "      <th>2</th>\n",
       "      <td>покупка жилья</td>\n",
       "      <td>покупка жильё</td>\n",
       "    </tr>\n",
       "    <tr>\n",
       "      <th>3</th>\n",
       "      <td>дополнительное образование</td>\n",
       "      <td>дополнительный образование</td>\n",
       "    </tr>\n",
       "    <tr>\n",
       "      <th>4</th>\n",
       "      <td>сыграть свадьбу</td>\n",
       "      <td>сыграть свадьба</td>\n",
       "    </tr>\n",
       "    <tr>\n",
       "      <th>...</th>\n",
       "      <td>...</td>\n",
       "      <td>...</td>\n",
       "    </tr>\n",
       "    <tr>\n",
       "      <th>21449</th>\n",
       "      <td>операции с жильем</td>\n",
       "      <td>операция жильё</td>\n",
       "    </tr>\n",
       "    <tr>\n",
       "      <th>21450</th>\n",
       "      <td>сделка с автомобилем</td>\n",
       "      <td>сделка автомобиль</td>\n",
       "    </tr>\n",
       "    <tr>\n",
       "      <th>21451</th>\n",
       "      <td>недвижимость</td>\n",
       "      <td>недвижимость</td>\n",
       "    </tr>\n",
       "    <tr>\n",
       "      <th>21452</th>\n",
       "      <td>на покупку своего автомобиля</td>\n",
       "      <td>покупка свой автомобиль</td>\n",
       "    </tr>\n",
       "    <tr>\n",
       "      <th>21453</th>\n",
       "      <td>на покупку автомобиля</td>\n",
       "      <td>покупка автомобиль</td>\n",
       "    </tr>\n",
       "  </tbody>\n",
       "</table>\n",
       "<p>21454 rows × 2 columns</p>\n",
       "</div>"
      ],
      "text/plain": [
       "                            purpose               purpose_lemma\n",
       "0                     покупка жилья               покупка жильё\n",
       "1           приобретение автомобиля     приобретение автомобиль\n",
       "2                     покупка жилья               покупка жильё\n",
       "3        дополнительное образование  дополнительный образование\n",
       "4                   сыграть свадьбу             сыграть свадьба\n",
       "...                             ...                         ...\n",
       "21449             операции с жильем              операция жильё\n",
       "21450          сделка с автомобилем           сделка автомобиль\n",
       "21451                  недвижимость                недвижимость\n",
       "21452  на покупку своего автомобиля     покупка свой автомобиль\n",
       "21453         на покупку автомобиля          покупка автомобиль\n",
       "\n",
       "[21454 rows x 2 columns]"
      ]
     },
     "execution_count": 46,
     "metadata": {},
     "output_type": "execute_result"
    }
   ],
   "source": [
    "df2[['purpose', 'purpose_lemma']]"
   ]
  },
  {
   "cell_type": "code",
   "execution_count": 47,
   "id": "caad61cd-e0a8-46f0-bf1d-d108fd27e071",
   "metadata": {
    "tags": []
   },
   "outputs": [
    {
     "name": "stdout",
     "output_type": "stream",
     "text": [
      "Размер словаря 26\n",
      "{'<PAD>': 0, 'недвижимость': 1, 'покупка': 2, 'жильё': 3, 'автомобиль': 4, 'образование': 5, 'операция': 6, 'свадьба': 7, 'свой': 8, 'строительство': 9, 'высокий': 10, 'получение': 11, 'коммерческий': 12, 'жилой': 13, 'подержать': 14, 'сделка': 15, 'дополнительный': 16, 'заняться': 17, 'проведение': 18, 'сыграть': 19, 'сдача': 20, 'семья': 21, 'собственный': 22, 'ремонт': 23, 'приобретение': 24, 'профильный': 25}\n",
      "CPU times: total: 15.6 ms\n",
      "Wall time: 10 ms\n"
     ]
    }
   ],
   "source": [
    "%%time\n",
    "\n",
    "# строим словарь\n",
    "\n",
    "# подсчитать частоты токенов, частоты будем хранить в словаре со значением по умолчанию\n",
    "# посчитать количество документов, в которых употребляется каждое слово\n",
    "# а также общее количество документов\n",
    "\n",
    "# убрать слишком редкие и слишком частые слова - max_doc_freq=0.9, min_count=5\n",
    "\n",
    "# отсортировать слова по убыванию частоты \n",
    "# смотреть распределение Ципфа\n",
    "#    в голове распределения содержаться: союзы, предлоги, местоимения, \n",
    "#    вопросительные слова их ценность в контексте темаьттческой классификацмм бесполезна, \n",
    "#    они встречаются во всех текстах вне зависимости от тематитки\n",
    "#    в хвасте распределения: опечатки\n",
    "# нумеруем слова - word2id\n",
    "# нормируем частоты слов - word2freq\n",
    "\n",
    "vocabulary, word_doc_freq = build_vocabulary(train_lematize, max_doc_freq=0.9, min_count=5, pad_word='<PAD>')\n",
    "print(\"Размер словаря\", len(vocabulary))\n",
    "#print(list(vocabulary.items())[ :10])\n",
    "print(vocabulary)\n",
    "#print(word_doc_freq)"
   ]
  },
  {
   "cell_type": "markdown",
   "id": "9c6dfb38-7572-44eb-923a-6d670ec620b0",
   "metadata": {},
   "source": [
    "# из словаря сформируем категории:\n",
    "* недвижимость / жильё\n",
    "* автомобиль\n",
    "* образование\n",
    "* свадьба\n",
    "* семья\n",
    "* ремонт\n",
    "* прочее\n"
   ]
  },
  {
   "cell_type": "code",
   "execution_count": 48,
   "id": "01dbbcb6-170d-40e7-a445-284ec4db9fc7",
   "metadata": {},
   "outputs": [],
   "source": [
    "#list_category = ['недвижимость', 'автомобиль', 'образование', 'свадьба', 'семья', 'ремонт', 'прочее']"
   ]
  },
  {
   "cell_type": "code",
   "execution_count": 129,
   "id": "2c54c0f4-f90e-4236-a4fb-92acb1acc174",
   "metadata": {},
   "outputs": [],
   "source": [
    "def purpose_set_category(purpose_lemma):\n",
    "    if   ('недвижимость' in purpose_lemma): return 'коммерческая недвижимость'\n",
    "    elif ('жильё' in purpose_lemma): return 'жилье'\n",
    "    elif ('автомобиль' in purpose_lemma): return 'автомобиль'\n",
    "    elif ('образование' in purpose_lemma): return 'образование'\n",
    "    elif ('свадьба' in purpose_lemma): return 'свадьба'\n",
    "    elif ('семья' in purpose_lemma): return 'семья'\n",
    "    elif ('ремонт' in purpose_lemma): return 'ремонт'\n",
    "    else:  return 'прочее'\n"
   ]
  },
  {
   "cell_type": "code",
   "execution_count": 130,
   "id": "9f906259-3a65-43fe-888f-91b1e85ff6f8",
   "metadata": {},
   "outputs": [
    {
     "name": "stderr",
     "output_type": "stream",
     "text": [
      "100%|█████████████████████████████████████████████████████████████████████| 21454/21454 [00:00<00:00, 1192417.55it/s]\n"
     ]
    }
   ],
   "source": [
    "from tqdm import tqdm\n",
    "tqdm.pandas()\n",
    "\n",
    "df2['purpose_category'] = df2['purpose_lemma'].progress_apply(purpose_set_category)"
   ]
  },
  {
   "cell_type": "code",
   "execution_count": 131,
   "id": "61347a82-3cbf-4d2b-97e1-4b11c2c659e8",
   "metadata": {},
   "outputs": [
    {
     "data": {
      "text/html": [
       "<div>\n",
       "<style scoped>\n",
       "    .dataframe tbody tr th:only-of-type {\n",
       "        vertical-align: middle;\n",
       "    }\n",
       "\n",
       "    .dataframe tbody tr th {\n",
       "        vertical-align: top;\n",
       "    }\n",
       "\n",
       "    .dataframe thead th {\n",
       "        text-align: right;\n",
       "    }\n",
       "</style>\n",
       "<table border=\"1\" class=\"dataframe\">\n",
       "  <thead>\n",
       "    <tr style=\"text-align: right;\">\n",
       "      <th></th>\n",
       "      <th>purpose_lemma</th>\n",
       "      <th>purpose_category</th>\n",
       "    </tr>\n",
       "  </thead>\n",
       "  <tbody>\n",
       "    <tr>\n",
       "      <th>0</th>\n",
       "      <td>покупка жильё</td>\n",
       "      <td>жилье</td>\n",
       "    </tr>\n",
       "    <tr>\n",
       "      <th>1</th>\n",
       "      <td>приобретение автомобиль</td>\n",
       "      <td>автомобиль</td>\n",
       "    </tr>\n",
       "    <tr>\n",
       "      <th>2</th>\n",
       "      <td>покупка жильё</td>\n",
       "      <td>жилье</td>\n",
       "    </tr>\n",
       "    <tr>\n",
       "      <th>3</th>\n",
       "      <td>дополнительный образование</td>\n",
       "      <td>образование</td>\n",
       "    </tr>\n",
       "    <tr>\n",
       "      <th>4</th>\n",
       "      <td>сыграть свадьба</td>\n",
       "      <td>свадьба</td>\n",
       "    </tr>\n",
       "    <tr>\n",
       "      <th>...</th>\n",
       "      <td>...</td>\n",
       "      <td>...</td>\n",
       "    </tr>\n",
       "    <tr>\n",
       "      <th>21449</th>\n",
       "      <td>операция жильё</td>\n",
       "      <td>жилье</td>\n",
       "    </tr>\n",
       "    <tr>\n",
       "      <th>21450</th>\n",
       "      <td>сделка автомобиль</td>\n",
       "      <td>автомобиль</td>\n",
       "    </tr>\n",
       "    <tr>\n",
       "      <th>21451</th>\n",
       "      <td>недвижимость</td>\n",
       "      <td>коммерческая недвижимость</td>\n",
       "    </tr>\n",
       "    <tr>\n",
       "      <th>21452</th>\n",
       "      <td>покупка свой автомобиль</td>\n",
       "      <td>автомобиль</td>\n",
       "    </tr>\n",
       "    <tr>\n",
       "      <th>21453</th>\n",
       "      <td>покупка автомобиль</td>\n",
       "      <td>автомобиль</td>\n",
       "    </tr>\n",
       "  </tbody>\n",
       "</table>\n",
       "<p>21454 rows × 2 columns</p>\n",
       "</div>"
      ],
      "text/plain": [
       "                    purpose_lemma           purpose_category\n",
       "0                   покупка жильё                      жилье\n",
       "1         приобретение автомобиль                 автомобиль\n",
       "2                   покупка жильё                      жилье\n",
       "3      дополнительный образование                образование\n",
       "4                 сыграть свадьба                    свадьба\n",
       "...                           ...                        ...\n",
       "21449              операция жильё                      жилье\n",
       "21450           сделка автомобиль                 автомобиль\n",
       "21451                недвижимость  коммерческая недвижимость\n",
       "21452     покупка свой автомобиль                 автомобиль\n",
       "21453          покупка автомобиль                 автомобиль\n",
       "\n",
       "[21454 rows x 2 columns]"
      ]
     },
     "execution_count": 131,
     "metadata": {},
     "output_type": "execute_result"
    }
   ],
   "source": [
    "df2[['purpose_lemma', 'purpose_category']]"
   ]
  },
  {
   "cell_type": "code",
   "execution_count": 133,
   "id": "b5cddd8d-6456-4cbb-a244-01fb788a2294",
   "metadata": {},
   "outputs": [
    {
     "data": {
      "text/plain": [
       "коммерческая недвижимость    6351\n",
       "жилье                        4460\n",
       "автомобиль                   4306\n",
       "образование                  4013\n",
       "свадьба                      2324\n",
       "Name: purpose_category, dtype: int64"
      ]
     },
     "execution_count": 133,
     "metadata": {},
     "output_type": "execute_result"
    }
   ],
   "source": [
    "df2['purpose_category'].value_counts()\n",
    "\n",
    "#print(df['income_type'].value_counts())\n",
    "#print (df['income_type'].unique())\n",
    "#pokemon_games = df2.loc[df2['purpose_lemma'].str.contains('здоровье', case=False)]\n",
    "#print(pokemon_games)\n",
    "#pokemon_games = df2.loc[df2['purpose_lemma'].str.contains('медицинск', case=False)]\n",
    "#print(pokemon_games)"
   ]
  },
  {
   "cell_type": "code",
   "execution_count": 53,
   "id": "b0d0ffc0-9296-4295-bb97-7ef5b3e005b7",
   "metadata": {},
   "outputs": [
    {
     "name": "stdout",
     "output_type": "stream",
     "text": [
      "<class 'pandas.core.frame.DataFrame'>\n",
      "RangeIndex: 21454 entries, 0 to 21453\n",
      "Data columns (total 14 columns):\n",
      " #   Column            Non-Null Count  Dtype  \n",
      "---  ------            --------------  -----  \n",
      " 0   children          21454 non-null  int64  \n",
      " 1   days_employed     21454 non-null  int32  \n",
      " 2   dob_years         21454 non-null  int64  \n",
      " 3   education         21454 non-null  object \n",
      " 4   education_id      21454 non-null  int64  \n",
      " 5   family_status     21454 non-null  object \n",
      " 6   family_status_id  21454 non-null  int64  \n",
      " 7   gender            21454 non-null  object \n",
      " 8   income_type       21454 non-null  object \n",
      " 9   debt              21454 non-null  int64  \n",
      " 10  total_income      21454 non-null  float64\n",
      " 11  purpose           21454 non-null  object \n",
      " 12  purpose_lemma     21454 non-null  object \n",
      " 13  purpose_category  21454 non-null  object \n",
      "dtypes: float64(1), int32(1), int64(5), object(7)\n",
      "memory usage: 2.2+ MB\n"
     ]
    }
   ],
   "source": [
    "df2.info()"
   ]
  },
  {
   "cell_type": "code",
   "execution_count": 54,
   "id": "6ea6366e-94e2-423e-8551-2afdebb23dfa",
   "metadata": {},
   "outputs": [],
   "source": [
    "#df2[['education', 'education_id']]\n",
    "#df2[['family_status', 'family_status_id']]\n",
    "\n",
    "dict_education = df2[['education', 'education_id']]\n",
    "dict_education = dict_education.drop_duplicates().reset_index(drop=True)\n",
    "\n",
    "dict_family_status = df2[['family_status', 'family_status_id']]\n",
    "dict_family_status = dict_family_status.drop_duplicates().reset_index(drop=True)"
   ]
  },
  {
   "cell_type": "code",
   "execution_count": 55,
   "id": "f4b2437d-6af9-493c-bd1c-4cbe89491a7f",
   "metadata": {},
   "outputs": [
    {
     "data": {
      "text/html": [
       "<div>\n",
       "<style scoped>\n",
       "    .dataframe tbody tr th:only-of-type {\n",
       "        vertical-align: middle;\n",
       "    }\n",
       "\n",
       "    .dataframe tbody tr th {\n",
       "        vertical-align: top;\n",
       "    }\n",
       "\n",
       "    .dataframe thead th {\n",
       "        text-align: right;\n",
       "    }\n",
       "</style>\n",
       "<table border=\"1\" class=\"dataframe\">\n",
       "  <thead>\n",
       "    <tr style=\"text-align: right;\">\n",
       "      <th></th>\n",
       "      <th>education</th>\n",
       "      <th>education_id</th>\n",
       "    </tr>\n",
       "  </thead>\n",
       "  <tbody>\n",
       "    <tr>\n",
       "      <th>0</th>\n",
       "      <td>высшее</td>\n",
       "      <td>0</td>\n",
       "    </tr>\n",
       "    <tr>\n",
       "      <th>1</th>\n",
       "      <td>среднее</td>\n",
       "      <td>1</td>\n",
       "    </tr>\n",
       "    <tr>\n",
       "      <th>2</th>\n",
       "      <td>неоконченное высшее</td>\n",
       "      <td>2</td>\n",
       "    </tr>\n",
       "    <tr>\n",
       "      <th>3</th>\n",
       "      <td>начальное</td>\n",
       "      <td>3</td>\n",
       "    </tr>\n",
       "    <tr>\n",
       "      <th>4</th>\n",
       "      <td>ученая степень</td>\n",
       "      <td>4</td>\n",
       "    </tr>\n",
       "  </tbody>\n",
       "</table>\n",
       "</div>"
      ],
      "text/plain": [
       "             education  education_id\n",
       "0               высшее             0\n",
       "1              среднее             1\n",
       "2  неоконченное высшее             2\n",
       "3            начальное             3\n",
       "4       ученая степень             4"
      ]
     },
     "execution_count": 55,
     "metadata": {},
     "output_type": "execute_result"
    }
   ],
   "source": [
    "dict_education"
   ]
  },
  {
   "cell_type": "code",
   "execution_count": 56,
   "id": "b3f12e36-b97b-4066-92b9-b639de6e353f",
   "metadata": {},
   "outputs": [
    {
     "data": {
      "text/html": [
       "<div>\n",
       "<style scoped>\n",
       "    .dataframe tbody tr th:only-of-type {\n",
       "        vertical-align: middle;\n",
       "    }\n",
       "\n",
       "    .dataframe tbody tr th {\n",
       "        vertical-align: top;\n",
       "    }\n",
       "\n",
       "    .dataframe thead th {\n",
       "        text-align: right;\n",
       "    }\n",
       "</style>\n",
       "<table border=\"1\" class=\"dataframe\">\n",
       "  <thead>\n",
       "    <tr style=\"text-align: right;\">\n",
       "      <th></th>\n",
       "      <th>family_status</th>\n",
       "      <th>family_status_id</th>\n",
       "    </tr>\n",
       "  </thead>\n",
       "  <tbody>\n",
       "    <tr>\n",
       "      <th>0</th>\n",
       "      <td>женат / замужем</td>\n",
       "      <td>0</td>\n",
       "    </tr>\n",
       "    <tr>\n",
       "      <th>1</th>\n",
       "      <td>гражданский брак</td>\n",
       "      <td>1</td>\n",
       "    </tr>\n",
       "    <tr>\n",
       "      <th>2</th>\n",
       "      <td>вдовец / вдова</td>\n",
       "      <td>2</td>\n",
       "    </tr>\n",
       "    <tr>\n",
       "      <th>3</th>\n",
       "      <td>в разводе</td>\n",
       "      <td>3</td>\n",
       "    </tr>\n",
       "    <tr>\n",
       "      <th>4</th>\n",
       "      <td>не женат / не замужем</td>\n",
       "      <td>4</td>\n",
       "    </tr>\n",
       "  </tbody>\n",
       "</table>\n",
       "</div>"
      ],
      "text/plain": [
       "           family_status  family_status_id\n",
       "0        женат / замужем                 0\n",
       "1       гражданский брак                 1\n",
       "2         вдовец / вдова                 2\n",
       "3              в разводе                 3\n",
       "4  не женат / не замужем                 4"
      ]
     },
     "execution_count": 56,
     "metadata": {},
     "output_type": "execute_result"
    }
   ],
   "source": [
    "dict_family_status"
   ]
  },
  {
   "cell_type": "code",
   "execution_count": 57,
   "id": "35c138de-fb03-47b5-b085-a53cbdd3fc8e",
   "metadata": {},
   "outputs": [
    {
     "data": {
      "text/html": [
       "<div>\n",
       "<style scoped>\n",
       "    .dataframe tbody tr th:only-of-type {\n",
       "        vertical-align: middle;\n",
       "    }\n",
       "\n",
       "    .dataframe tbody tr th {\n",
       "        vertical-align: top;\n",
       "    }\n",
       "\n",
       "    .dataframe thead th {\n",
       "        text-align: right;\n",
       "    }\n",
       "</style>\n",
       "<table border=\"1\" class=\"dataframe\">\n",
       "  <thead>\n",
       "    <tr style=\"text-align: right;\">\n",
       "      <th></th>\n",
       "      <th>children</th>\n",
       "      <th>days_employed</th>\n",
       "      <th>education_id</th>\n",
       "      <th>family_status_id</th>\n",
       "      <th>gender</th>\n",
       "      <th>income_type</th>\n",
       "      <th>debt</th>\n",
       "      <th>total_income</th>\n",
       "      <th>purpose</th>\n",
       "    </tr>\n",
       "  </thead>\n",
       "  <tbody>\n",
       "    <tr>\n",
       "      <th>0</th>\n",
       "      <td>1</td>\n",
       "      <td>8437</td>\n",
       "      <td>0</td>\n",
       "      <td>0</td>\n",
       "      <td>F</td>\n",
       "      <td>сотрудник</td>\n",
       "      <td>0</td>\n",
       "      <td>253875.639453</td>\n",
       "      <td>покупка жилья</td>\n",
       "    </tr>\n",
       "    <tr>\n",
       "      <th>1</th>\n",
       "      <td>1</td>\n",
       "      <td>4024</td>\n",
       "      <td>1</td>\n",
       "      <td>0</td>\n",
       "      <td>F</td>\n",
       "      <td>сотрудник</td>\n",
       "      <td>0</td>\n",
       "      <td>112080.014102</td>\n",
       "      <td>приобретение автомобиля</td>\n",
       "    </tr>\n",
       "    <tr>\n",
       "      <th>2</th>\n",
       "      <td>0</td>\n",
       "      <td>5623</td>\n",
       "      <td>1</td>\n",
       "      <td>0</td>\n",
       "      <td>M</td>\n",
       "      <td>сотрудник</td>\n",
       "      <td>0</td>\n",
       "      <td>145885.952297</td>\n",
       "      <td>покупка жилья</td>\n",
       "    </tr>\n",
       "    <tr>\n",
       "      <th>3</th>\n",
       "      <td>3</td>\n",
       "      <td>4124</td>\n",
       "      <td>1</td>\n",
       "      <td>0</td>\n",
       "      <td>M</td>\n",
       "      <td>сотрудник</td>\n",
       "      <td>0</td>\n",
       "      <td>267628.550329</td>\n",
       "      <td>дополнительное образование</td>\n",
       "    </tr>\n",
       "    <tr>\n",
       "      <th>4</th>\n",
       "      <td>0</td>\n",
       "      <td>340266</td>\n",
       "      <td>1</td>\n",
       "      <td>1</td>\n",
       "      <td>F</td>\n",
       "      <td>пенсионер</td>\n",
       "      <td>0</td>\n",
       "      <td>158616.077870</td>\n",
       "      <td>сыграть свадьбу</td>\n",
       "    </tr>\n",
       "  </tbody>\n",
       "</table>\n",
       "</div>"
      ],
      "text/plain": [
       "   children  days_employed  education_id  family_status_id gender income_type  \\\n",
       "0         1           8437             0                 0      F   сотрудник   \n",
       "1         1           4024             1                 0      F   сотрудник   \n",
       "2         0           5623             1                 0      M   сотрудник   \n",
       "3         3           4124             1                 0      M   сотрудник   \n",
       "4         0         340266             1                 1      F   пенсионер   \n",
       "\n",
       "   debt   total_income                     purpose  \n",
       "0     0  253875.639453               покупка жилья  \n",
       "1     0  112080.014102     приобретение автомобиля  \n",
       "2     0  145885.952297               покупка жилья  \n",
       "3     0  267628.550329  дополнительное образование  \n",
       "4     0  158616.077870             сыграть свадьбу  "
      ]
     },
     "execution_count": 57,
     "metadata": {},
     "output_type": "execute_result"
    }
   ],
   "source": [
    "df3 = df2[['children', 'days_employed', 'education_id', 'family_status_id',\n",
    "           'gender', 'income_type', 'debt', 'total_income', 'purpose']]\n",
    "df3.head()"
   ]
  },
  {
   "cell_type": "markdown",
   "id": "36abc864-ee4b-4432-8ed7-166e4505df11",
   "metadata": {},
   "source": [
    "# Шаг 4. Ответьте на эти вопросы: <br> Step 3. Answer these questions:\n",
    "\n",
    "* Есть ли связь между рождением детей и своевременным погашением кредита? <br> Is there a connection between having kids and repaying a loan on time?\n",
    "* Есть ли связь между семейным положением и своевременным погашением кредита? <br> Is there a connection between marital status and repaying a loan on time?\n",
    "* Есть ли связь между уровнем дохода и своевременным погашением кредита? <br> Is there a connection between income level and repaying a loan on time?\n",
    "* Как различные цели кредитования влияют на своевременное погашение кредита? <br> How do different loan purposes affect timely loan repayment?"
   ]
  },
  {
   "cell_type": "markdown",
   "id": "5e8e73a3-83fa-48b4-8fbd-f74e2b80cfc7",
   "metadata": {},
   "source": [
    "## 4.1. Есть ли связь между рождением детей и своевременным погашением кредита? <br> Is there a connection between having kids and repaying a loan on time?"
   ]
  },
  {
   "cell_type": "code",
   "execution_count": 59,
   "id": "fff76286-41b2-46c4-be14-6f4cb483015a",
   "metadata": {},
   "outputs": [
    {
     "data": {
      "text/html": [
       "<div>\n",
       "<style scoped>\n",
       "    .dataframe tbody tr th:only-of-type {\n",
       "        vertical-align: middle;\n",
       "    }\n",
       "\n",
       "    .dataframe tbody tr th {\n",
       "        vertical-align: top;\n",
       "    }\n",
       "\n",
       "    .dataframe thead tr th {\n",
       "        text-align: left;\n",
       "    }\n",
       "\n",
       "    .dataframe thead tr:last-of-type th {\n",
       "        text-align: right;\n",
       "    }\n",
       "</style>\n",
       "<table border=\"1\" class=\"dataframe\">\n",
       "  <thead>\n",
       "    <tr>\n",
       "      <th></th>\n",
       "      <th colspan=\"4\" halign=\"left\">debt</th>\n",
       "    </tr>\n",
       "    <tr>\n",
       "      <th></th>\n",
       "      <th>count</th>\n",
       "      <th>sum</th>\n",
       "      <th>% имеющих долг</th>\n",
       "      <th>% не имеющих долг</th>\n",
       "    </tr>\n",
       "    <tr>\n",
       "      <th>children</th>\n",
       "      <th></th>\n",
       "      <th></th>\n",
       "      <th></th>\n",
       "      <th></th>\n",
       "    </tr>\n",
       "  </thead>\n",
       "  <tbody>\n",
       "    <tr>\n",
       "      <th>0</th>\n",
       "      <td>14091</td>\n",
       "      <td>1063</td>\n",
       "      <td>7.543822</td>\n",
       "      <td>92.456178</td>\n",
       "    </tr>\n",
       "    <tr>\n",
       "      <th>1</th>\n",
       "      <td>4855</td>\n",
       "      <td>445</td>\n",
       "      <td>9.165808</td>\n",
       "      <td>90.834192</td>\n",
       "    </tr>\n",
       "    <tr>\n",
       "      <th>2</th>\n",
       "      <td>2052</td>\n",
       "      <td>194</td>\n",
       "      <td>9.454191</td>\n",
       "      <td>90.545809</td>\n",
       "    </tr>\n",
       "    <tr>\n",
       "      <th>3</th>\n",
       "      <td>330</td>\n",
       "      <td>27</td>\n",
       "      <td>8.181818</td>\n",
       "      <td>91.818182</td>\n",
       "    </tr>\n",
       "    <tr>\n",
       "      <th>4</th>\n",
       "      <td>41</td>\n",
       "      <td>4</td>\n",
       "      <td>9.756098</td>\n",
       "      <td>90.243902</td>\n",
       "    </tr>\n",
       "    <tr>\n",
       "      <th>5</th>\n",
       "      <td>9</td>\n",
       "      <td>0</td>\n",
       "      <td>0.000000</td>\n",
       "      <td>100.000000</td>\n",
       "    </tr>\n",
       "    <tr>\n",
       "      <th>20</th>\n",
       "      <td>76</td>\n",
       "      <td>8</td>\n",
       "      <td>10.526316</td>\n",
       "      <td>89.473684</td>\n",
       "    </tr>\n",
       "  </tbody>\n",
       "</table>\n",
       "</div>"
      ],
      "text/plain": [
       "           debt                                       \n",
       "          count   sum % имеющих долг % не имеющих долг\n",
       "children                                              \n",
       "0         14091  1063       7.543822         92.456178\n",
       "1          4855   445       9.165808         90.834192\n",
       "2          2052   194       9.454191         90.545809\n",
       "3           330    27       8.181818         91.818182\n",
       "4            41     4       9.756098         90.243902\n",
       "5             9     0       0.000000        100.000000\n",
       "20           76     8      10.526316         89.473684"
      ]
     },
     "execution_count": 59,
     "metadata": {},
     "output_type": "execute_result"
    }
   ],
   "source": [
    "df2.groupby('children').agg({'debt':['count', 'sum', ('% имеющих долг', lambda x: x.mean()*100),\n",
    "                                                     ('% не имеющих долг', lambda x: 100 - x.mean()*100)]})"
   ]
  },
  {
   "cell_type": "code",
   "execution_count": 76,
   "id": "9ec20c9b-03d2-4a7e-96c6-353631d3dbb3",
   "metadata": {},
   "outputs": [],
   "source": [
    "df2['there_are_no_children'] = [0 if (df2.loc[ei, 'children'] == 0) else 1 \n",
    "                                for ei in df2.index]\n",
    "\n",
    "#df2[['children', 'there_are_no_children']]"
   ]
  },
  {
   "cell_type": "code",
   "execution_count": 80,
   "id": "d2fd0916-2df3-4b2f-a42e-130cb4ec4847",
   "metadata": {},
   "outputs": [
    {
     "name": "stdout",
     "output_type": "stream",
     "text": [
      "<class 'pandas.core.frame.DataFrame'>\n",
      "Int64Index: 2 entries, 0 to 1\n",
      "Data columns (total 4 columns):\n",
      " #   Column                     Non-Null Count  Dtype  \n",
      "---  ------                     --------------  -----  \n",
      " 0   (debt, count)              2 non-null      int64  \n",
      " 1   (debt, sum)                2 non-null      int64  \n",
      " 2   (debt, % имеющих долг)     2 non-null      float64\n",
      " 3   (debt, % не имеющих долг)  2 non-null      float64\n",
      "dtypes: float64(2), int64(2)\n",
      "memory usage: 80.0 bytes\n"
     ]
    },
    {
     "data": {
      "text/html": [
       "<div>\n",
       "<style scoped>\n",
       "    .dataframe tbody tr th:only-of-type {\n",
       "        vertical-align: middle;\n",
       "    }\n",
       "\n",
       "    .dataframe tbody tr th {\n",
       "        vertical-align: top;\n",
       "    }\n",
       "\n",
       "    .dataframe thead tr th {\n",
       "        text-align: left;\n",
       "    }\n",
       "\n",
       "    .dataframe thead tr:last-of-type th {\n",
       "        text-align: right;\n",
       "    }\n",
       "</style>\n",
       "<table border=\"1\" class=\"dataframe\">\n",
       "  <thead>\n",
       "    <tr>\n",
       "      <th></th>\n",
       "      <th colspan=\"4\" halign=\"left\">debt</th>\n",
       "    </tr>\n",
       "    <tr>\n",
       "      <th></th>\n",
       "      <th>count</th>\n",
       "      <th>sum</th>\n",
       "      <th>% имеющих долг</th>\n",
       "      <th>% не имеющих долг</th>\n",
       "    </tr>\n",
       "    <tr>\n",
       "      <th>there_are_no_children</th>\n",
       "      <th></th>\n",
       "      <th></th>\n",
       "      <th></th>\n",
       "      <th></th>\n",
       "    </tr>\n",
       "  </thead>\n",
       "  <tbody>\n",
       "    <tr>\n",
       "      <th>0</th>\n",
       "      <td>14091</td>\n",
       "      <td>1063</td>\n",
       "      <td>7.543822</td>\n",
       "      <td>92.456178</td>\n",
       "    </tr>\n",
       "    <tr>\n",
       "      <th>1</th>\n",
       "      <td>7363</td>\n",
       "      <td>678</td>\n",
       "      <td>9.208203</td>\n",
       "      <td>90.791797</td>\n",
       "    </tr>\n",
       "  </tbody>\n",
       "</table>\n",
       "</div>"
      ],
      "text/plain": [
       "                        debt                                       \n",
       "                       count   sum % имеющих долг % не имеющих долг\n",
       "there_are_no_children                                              \n",
       "0                      14091  1063       7.543822         92.456178\n",
       "1                       7363   678       9.208203         90.791797"
      ]
     },
     "execution_count": 80,
     "metadata": {},
     "output_type": "execute_result"
    }
   ],
   "source": [
    "df2_group = df2.groupby('there_are_no_children').agg(\n",
    "                        {'debt':['count', 'sum', ('% имеющих долг', lambda x: x.mean()*100),\n",
    "                                                 ('% не имеющих долг', lambda x: 100 - x.mean()*100)]\n",
    "                        })\n",
    "\n",
    "df2_group.info()\n",
    "df2_group.columns\n",
    "df2_group"
   ]
  },
  {
   "cell_type": "code",
   "execution_count": 88,
   "id": "476c36d5-a76c-40b8-926d-f16889bbc7c7",
   "metadata": {},
   "outputs": [
    {
     "name": "stdout",
     "output_type": "stream",
     "text": [
      "1.66%\n"
     ]
    }
   ],
   "source": [
    "delta = df2_group['debt', '% не имеющих долг'][0] - df2_group['debt', '% не имеющих долг'][1]\n",
    "\n",
    "print('{:.3}%'.format(delta))"
   ]
  },
  {
   "cell_type": "markdown",
   "id": "eac465f4-9535-456e-b938-aacf5455e0e0",
   "metadata": {},
   "source": [
    "Количество людей у ктоторых имеется долг по кредитам в разы меньше чем количество людей у кототрых нет долга по кредитам, и это не зависит от наличия и количество людей.   \n",
    "\n",
    "Доля людей у которых нет детей и нет задолженности по кредитам - 92.456178 %   \n",
    "доля людей у которых есть дети и нет задолженности по кредитам - 90.791797 %   \n",
    "разница между двумя этими группами - 1.66 %     \n",
    "\n",
    "### т.е. наличие детей на своевременное погашение не влияет (задолженность по кредитам не влияет). \n",
    "\n",
    "### из таблицы видно, что количество детей никак не влияет на задолженность по кредиту.   так как количество заемщиков у которых есть дети и не имеющих долги намного больше чем заемщиков имеющих детей но с долгами"
   ]
  },
  {
   "cell_type": "code",
   "execution_count": null,
   "id": "52ac21c7-c170-4570-90e1-85c699048b02",
   "metadata": {},
   "outputs": [],
   "source": []
  },
  {
   "cell_type": "markdown",
   "id": "ccc6e4b0-c467-45f1-9cce-f844a74b30a2",
   "metadata": {},
   "source": [
    "## 4.2. Есть ли связь между семейным положением и своевременным погашением кредита? <br> Is there a connection between marital status and repaying a loan on time?"
   ]
  },
  {
   "cell_type": "code",
   "execution_count": 89,
   "id": "11b09fa9-f103-4732-ae0c-be247f0a5401",
   "metadata": {},
   "outputs": [
    {
     "data": {
      "text/html": [
       "<div>\n",
       "<style scoped>\n",
       "    .dataframe tbody tr th:only-of-type {\n",
       "        vertical-align: middle;\n",
       "    }\n",
       "\n",
       "    .dataframe tbody tr th {\n",
       "        vertical-align: top;\n",
       "    }\n",
       "\n",
       "    .dataframe thead th {\n",
       "        text-align: right;\n",
       "    }\n",
       "</style>\n",
       "<table border=\"1\" class=\"dataframe\">\n",
       "  <thead>\n",
       "    <tr style=\"text-align: right;\">\n",
       "      <th></th>\n",
       "      <th>family_status</th>\n",
       "      <th>family_status_id</th>\n",
       "    </tr>\n",
       "  </thead>\n",
       "  <tbody>\n",
       "    <tr>\n",
       "      <th>0</th>\n",
       "      <td>женат / замужем</td>\n",
       "      <td>0</td>\n",
       "    </tr>\n",
       "    <tr>\n",
       "      <th>1</th>\n",
       "      <td>гражданский брак</td>\n",
       "      <td>1</td>\n",
       "    </tr>\n",
       "    <tr>\n",
       "      <th>2</th>\n",
       "      <td>вдовец / вдова</td>\n",
       "      <td>2</td>\n",
       "    </tr>\n",
       "    <tr>\n",
       "      <th>3</th>\n",
       "      <td>в разводе</td>\n",
       "      <td>3</td>\n",
       "    </tr>\n",
       "    <tr>\n",
       "      <th>4</th>\n",
       "      <td>не женат / не замужем</td>\n",
       "      <td>4</td>\n",
       "    </tr>\n",
       "  </tbody>\n",
       "</table>\n",
       "</div>"
      ],
      "text/plain": [
       "           family_status  family_status_id\n",
       "0        женат / замужем                 0\n",
       "1       гражданский брак                 1\n",
       "2         вдовец / вдова                 2\n",
       "3              в разводе                 3\n",
       "4  не женат / не замужем                 4"
      ]
     },
     "execution_count": 89,
     "metadata": {},
     "output_type": "execute_result"
    }
   ],
   "source": [
    "dict_family_status"
   ]
  },
  {
   "cell_type": "code",
   "execution_count": 98,
   "id": "53fe93b7-1ba5-4928-b887-a059512ab76a",
   "metadata": {},
   "outputs": [
    {
     "data": {
      "text/html": [
       "<div>\n",
       "<style scoped>\n",
       "    .dataframe tbody tr th:only-of-type {\n",
       "        vertical-align: middle;\n",
       "    }\n",
       "\n",
       "    .dataframe tbody tr th {\n",
       "        vertical-align: top;\n",
       "    }\n",
       "\n",
       "    .dataframe thead th {\n",
       "        text-align: right;\n",
       "    }\n",
       "</style>\n",
       "<table border=\"1\" class=\"dataframe\">\n",
       "  <thead>\n",
       "    <tr style=\"text-align: right;\">\n",
       "      <th></th>\n",
       "      <th>family_status</th>\n",
       "      <th>family_status_id</th>\n",
       "      <th>family_or_not</th>\n",
       "    </tr>\n",
       "  </thead>\n",
       "  <tbody>\n",
       "    <tr>\n",
       "      <th>0</th>\n",
       "      <td>женат / замужем</td>\n",
       "      <td>0</td>\n",
       "      <td>0</td>\n",
       "    </tr>\n",
       "    <tr>\n",
       "      <th>1</th>\n",
       "      <td>женат / замужем</td>\n",
       "      <td>0</td>\n",
       "      <td>0</td>\n",
       "    </tr>\n",
       "    <tr>\n",
       "      <th>2</th>\n",
       "      <td>женат / замужем</td>\n",
       "      <td>0</td>\n",
       "      <td>0</td>\n",
       "    </tr>\n",
       "    <tr>\n",
       "      <th>3</th>\n",
       "      <td>женат / замужем</td>\n",
       "      <td>0</td>\n",
       "      <td>0</td>\n",
       "    </tr>\n",
       "    <tr>\n",
       "      <th>4</th>\n",
       "      <td>гражданский брак</td>\n",
       "      <td>1</td>\n",
       "      <td>0</td>\n",
       "    </tr>\n",
       "    <tr>\n",
       "      <th>...</th>\n",
       "      <td>...</td>\n",
       "      <td>...</td>\n",
       "      <td>...</td>\n",
       "    </tr>\n",
       "    <tr>\n",
       "      <th>21449</th>\n",
       "      <td>гражданский брак</td>\n",
       "      <td>1</td>\n",
       "      <td>0</td>\n",
       "    </tr>\n",
       "    <tr>\n",
       "      <th>21450</th>\n",
       "      <td>женат / замужем</td>\n",
       "      <td>0</td>\n",
       "      <td>0</td>\n",
       "    </tr>\n",
       "    <tr>\n",
       "      <th>21451</th>\n",
       "      <td>гражданский брак</td>\n",
       "      <td>1</td>\n",
       "      <td>0</td>\n",
       "    </tr>\n",
       "    <tr>\n",
       "      <th>21452</th>\n",
       "      <td>женат / замужем</td>\n",
       "      <td>0</td>\n",
       "      <td>0</td>\n",
       "    </tr>\n",
       "    <tr>\n",
       "      <th>21453</th>\n",
       "      <td>женат / замужем</td>\n",
       "      <td>0</td>\n",
       "      <td>0</td>\n",
       "    </tr>\n",
       "  </tbody>\n",
       "</table>\n",
       "<p>21454 rows × 3 columns</p>\n",
       "</div>"
      ],
      "text/plain": [
       "          family_status  family_status_id  family_or_not\n",
       "0       женат / замужем                 0              0\n",
       "1       женат / замужем                 0              0\n",
       "2       женат / замужем                 0              0\n",
       "3       женат / замужем                 0              0\n",
       "4      гражданский брак                 1              0\n",
       "...                 ...               ...            ...\n",
       "21449  гражданский брак                 1              0\n",
       "21450   женат / замужем                 0              0\n",
       "21451  гражданский брак                 1              0\n",
       "21452   женат / замужем                 0              0\n",
       "21453   женат / замужем                 0              0\n",
       "\n",
       "[21454 rows x 3 columns]"
      ]
     },
     "execution_count": 98,
     "metadata": {},
     "output_type": "execute_result"
    }
   ],
   "source": [
    "df2['family_or_not'] = [0 if ((df2.loc[ei, 'family_status_id'] == 0) or \n",
    "                              (df2.loc[ei, 'family_status_id'] == 1)) else 1 \n",
    "                                      for ei in df2.index]\n",
    "\n",
    "#df2[['family_status', 'family_status_id', 'family_or_not']]"
   ]
  },
  {
   "cell_type": "code",
   "execution_count": 99,
   "id": "397a49d3-23e3-4cab-a30d-8774d182cd5f",
   "metadata": {},
   "outputs": [
    {
     "data": {
      "text/html": [
       "<div>\n",
       "<style scoped>\n",
       "    .dataframe tbody tr th:only-of-type {\n",
       "        vertical-align: middle;\n",
       "    }\n",
       "\n",
       "    .dataframe tbody tr th {\n",
       "        vertical-align: top;\n",
       "    }\n",
       "\n",
       "    .dataframe thead tr th {\n",
       "        text-align: left;\n",
       "    }\n",
       "\n",
       "    .dataframe thead tr:last-of-type th {\n",
       "        text-align: right;\n",
       "    }\n",
       "</style>\n",
       "<table border=\"1\" class=\"dataframe\">\n",
       "  <thead>\n",
       "    <tr>\n",
       "      <th></th>\n",
       "      <th>sum</th>\n",
       "      <th>count</th>\n",
       "    </tr>\n",
       "    <tr>\n",
       "      <th></th>\n",
       "      <th>debt</th>\n",
       "      <th>debt</th>\n",
       "    </tr>\n",
       "    <tr>\n",
       "      <th>family_or_not</th>\n",
       "      <th></th>\n",
       "      <th></th>\n",
       "    </tr>\n",
       "  </thead>\n",
       "  <tbody>\n",
       "    <tr>\n",
       "      <th>0</th>\n",
       "      <td>1319</td>\n",
       "      <td>16490</td>\n",
       "    </tr>\n",
       "    <tr>\n",
       "      <th>1</th>\n",
       "      <td>422</td>\n",
       "      <td>4964</td>\n",
       "    </tr>\n",
       "  </tbody>\n",
       "</table>\n",
       "</div>"
      ],
      "text/plain": [
       "                sum  count\n",
       "               debt   debt\n",
       "family_or_not             \n",
       "0              1319  16490\n",
       "1               422   4964"
      ]
     },
     "execution_count": 99,
     "metadata": {},
     "output_type": "execute_result"
    }
   ],
   "source": [
    "#df2_pivot = df2.pivot_table(index='family_status_id', values='debt', aggfunc=['sum', 'count'])\n",
    "df2_pivot_2 = df2.pivot_table(index='family_or_not', values='debt', aggfunc=['sum', 'count'])\n",
    "\n",
    "df2_pivot_2"
   ]
  },
  {
   "cell_type": "code",
   "execution_count": 100,
   "id": "13cf43ab-79db-4ae8-91a9-0d3c51691063",
   "metadata": {},
   "outputs": [
    {
     "name": "stdout",
     "output_type": "stream",
     "text": [
      "<class 'pandas.core.frame.DataFrame'>\n",
      "Int64Index: 2 entries, 0 to 1\n",
      "Data columns (total 4 columns):\n",
      " #   Column                     Non-Null Count  Dtype  \n",
      "---  ------                     --------------  -----  \n",
      " 0   (debt, count)              2 non-null      int64  \n",
      " 1   (debt, sum)                2 non-null      int64  \n",
      " 2   (debt, % имеющих долг)     2 non-null      float64\n",
      " 3   (debt, % не имеющих долг)  2 non-null      float64\n",
      "dtypes: float64(2), int64(2)\n",
      "memory usage: 80.0 bytes\n"
     ]
    },
    {
     "data": {
      "text/html": [
       "<div>\n",
       "<style scoped>\n",
       "    .dataframe tbody tr th:only-of-type {\n",
       "        vertical-align: middle;\n",
       "    }\n",
       "\n",
       "    .dataframe tbody tr th {\n",
       "        vertical-align: top;\n",
       "    }\n",
       "\n",
       "    .dataframe thead tr th {\n",
       "        text-align: left;\n",
       "    }\n",
       "\n",
       "    .dataframe thead tr:last-of-type th {\n",
       "        text-align: right;\n",
       "    }\n",
       "</style>\n",
       "<table border=\"1\" class=\"dataframe\">\n",
       "  <thead>\n",
       "    <tr>\n",
       "      <th></th>\n",
       "      <th colspan=\"4\" halign=\"left\">debt</th>\n",
       "    </tr>\n",
       "    <tr>\n",
       "      <th></th>\n",
       "      <th>count</th>\n",
       "      <th>sum</th>\n",
       "      <th>% имеющих долг</th>\n",
       "      <th>% не имеющих долг</th>\n",
       "    </tr>\n",
       "    <tr>\n",
       "      <th>family_or_not</th>\n",
       "      <th></th>\n",
       "      <th></th>\n",
       "      <th></th>\n",
       "      <th></th>\n",
       "    </tr>\n",
       "  </thead>\n",
       "  <tbody>\n",
       "    <tr>\n",
       "      <th>0</th>\n",
       "      <td>16490</td>\n",
       "      <td>1319</td>\n",
       "      <td>7.998787</td>\n",
       "      <td>92.001213</td>\n",
       "    </tr>\n",
       "    <tr>\n",
       "      <th>1</th>\n",
       "      <td>4964</td>\n",
       "      <td>422</td>\n",
       "      <td>8.501209</td>\n",
       "      <td>91.498791</td>\n",
       "    </tr>\n",
       "  </tbody>\n",
       "</table>\n",
       "</div>"
      ],
      "text/plain": [
       "                debt                                       \n",
       "               count   sum % имеющих долг % не имеющих долг\n",
       "family_or_not                                              \n",
       "0              16490  1319       7.998787         92.001213\n",
       "1               4964   422       8.501209         91.498791"
      ]
     },
     "execution_count": 100,
     "metadata": {},
     "output_type": "execute_result"
    }
   ],
   "source": [
    "df2_group = df2.groupby('family_or_not').agg(\n",
    "                        {'debt':['count', 'sum', ('% имеющих долг', lambda x: x.mean()*100),\n",
    "                                                 ('% не имеющих долг', lambda x: 100 - x.mean()*100)]\n",
    "                        })\n",
    "\n",
    "df2_group.info()\n",
    "df2_group.columns\n",
    "df2_group"
   ]
  },
  {
   "cell_type": "markdown",
   "id": "af951ff6-018b-4d07-a3e0-d83e04739dc5",
   "metadata": {},
   "source": [
    "Доля (количество) женатых которые не имеют долги по кредитам больше (92.001213 %), чем те которые одинокие (91.498791 %)\n",
    "Доля (количество) женатых которые имеют долги по кредитам меньше (7.998787 %), чем те которые одинокие (8.501209 %)\n",
    "\n",
    "### т.е. статус заемщика обремененного семейным положением влияет на своевременное погашение кредита."
   ]
  },
  {
   "cell_type": "code",
   "execution_count": null,
   "id": "a7e8c4fe-1537-4350-a14f-446d84761f0b",
   "metadata": {},
   "outputs": [],
   "source": []
  },
  {
   "cell_type": "markdown",
   "id": "437ded2e-be9a-480b-972d-89f6b69ac32e",
   "metadata": {},
   "source": [
    "## 4.3. Есть ли связь между уровнем дохода и своевременным погашением кредита? <br> Is there a connection between income level and repaying a loan on time?"
   ]
  },
  {
   "cell_type": "code",
   "execution_count": 103,
   "id": "5b367159-f76c-4d0b-907b-bfe0cb0487d3",
   "metadata": {},
   "outputs": [
    {
     "name": "stderr",
     "output_type": "stream",
     "text": [
      "100%|█████████████████████████████████████████████████████████████████████| 21454/21454 [00:00<00:00, 1191864.77it/s]\n"
     ]
    },
    {
     "data": {
      "text/plain": [
       "от 50001 до 200000      16013\n",
       "от 200001 до 1000000     5044\n",
       "от 30001 до 50000         350\n",
       "от 1000001 и выше          25\n",
       "от 0 до 30000              22\n",
       "Name: category_total_income, dtype: int64"
      ]
     },
     "execution_count": 103,
     "metadata": {},
     "output_type": "execute_result"
    }
   ],
   "source": [
    "#На основании диапазонов, указанных ниже, создайте столбец total_income_category с категориями:\n",
    "#0–30000 — 'E';\n",
    "#30001–50000 — 'D';\n",
    "#50001–200000 — 'C';\n",
    "#200001–1000000 — 'B';\n",
    "#1000001 и выше — 'A'.\n",
    "\n",
    "def category_total_income(total_income):\n",
    "    try:\n",
    "        if (total_income > 0) and (total_income <= 30000):        return 'от 0 до 30000'\n",
    "        if (total_income > 30000) and (total_income <= 50000):    return 'от 30001 до 50000'\n",
    "        if (total_income > 50000) and (total_income <= 200000):   return 'от 50001 до 200000'\n",
    "        if (total_income > 200000) and (total_income <= 1000000): return 'от 200001 до 1000000'\n",
    "        if (total_income > 1000000):                              return 'от 1000001 и выше'\n",
    "        else: return 'Данные по доходам не могут быть меньше или раны нулю'\n",
    "    except:\n",
    "        return 'Данные по доходам неверные или отсутствуют'\n",
    "\n",
    "from tqdm import tqdm\n",
    "tqdm.pandas()\n",
    "\n",
    "df2['category_total_income'] = df2['total_income'].progress_apply(category_total_income)\n",
    "\n",
    "df2['category_total_income'].value_counts()"
   ]
  },
  {
   "cell_type": "code",
   "execution_count": 104,
   "id": "cdc1db14-b5d8-4f68-b0dd-8606ee804684",
   "metadata": {},
   "outputs": [
    {
     "name": "stdout",
     "output_type": "stream",
     "text": [
      "<class 'pandas.core.frame.DataFrame'>\n",
      "Index: 5 entries, от 0 до 30000 to от 50001 до 200000\n",
      "Data columns (total 4 columns):\n",
      " #   Column                     Non-Null Count  Dtype  \n",
      "---  ------                     --------------  -----  \n",
      " 0   (debt, count)              5 non-null      int64  \n",
      " 1   (debt, sum)                5 non-null      int64  \n",
      " 2   (debt, % имеющих долг)     5 non-null      float64\n",
      " 3   (debt, % не имеющих долг)  5 non-null      float64\n",
      "dtypes: float64(2), int64(2)\n",
      "memory usage: 200.0+ bytes\n"
     ]
    },
    {
     "data": {
      "text/html": [
       "<div>\n",
       "<style scoped>\n",
       "    .dataframe tbody tr th:only-of-type {\n",
       "        vertical-align: middle;\n",
       "    }\n",
       "\n",
       "    .dataframe tbody tr th {\n",
       "        vertical-align: top;\n",
       "    }\n",
       "\n",
       "    .dataframe thead tr th {\n",
       "        text-align: left;\n",
       "    }\n",
       "\n",
       "    .dataframe thead tr:last-of-type th {\n",
       "        text-align: right;\n",
       "    }\n",
       "</style>\n",
       "<table border=\"1\" class=\"dataframe\">\n",
       "  <thead>\n",
       "    <tr>\n",
       "      <th></th>\n",
       "      <th colspan=\"4\" halign=\"left\">debt</th>\n",
       "    </tr>\n",
       "    <tr>\n",
       "      <th></th>\n",
       "      <th>count</th>\n",
       "      <th>sum</th>\n",
       "      <th>% имеющих долг</th>\n",
       "      <th>% не имеющих долг</th>\n",
       "    </tr>\n",
       "    <tr>\n",
       "      <th>category_total_income</th>\n",
       "      <th></th>\n",
       "      <th></th>\n",
       "      <th></th>\n",
       "      <th></th>\n",
       "    </tr>\n",
       "  </thead>\n",
       "  <tbody>\n",
       "    <tr>\n",
       "      <th>от 0 до 30000</th>\n",
       "      <td>22</td>\n",
       "      <td>2</td>\n",
       "      <td>9.090909</td>\n",
       "      <td>90.909091</td>\n",
       "    </tr>\n",
       "    <tr>\n",
       "      <th>от 1000001 и выше</th>\n",
       "      <td>25</td>\n",
       "      <td>2</td>\n",
       "      <td>8.000000</td>\n",
       "      <td>92.000000</td>\n",
       "    </tr>\n",
       "    <tr>\n",
       "      <th>от 200001 до 1000000</th>\n",
       "      <td>5044</td>\n",
       "      <td>356</td>\n",
       "      <td>7.057891</td>\n",
       "      <td>92.942109</td>\n",
       "    </tr>\n",
       "    <tr>\n",
       "      <th>от 30001 до 50000</th>\n",
       "      <td>350</td>\n",
       "      <td>21</td>\n",
       "      <td>6.000000</td>\n",
       "      <td>94.000000</td>\n",
       "    </tr>\n",
       "    <tr>\n",
       "      <th>от 50001 до 200000</th>\n",
       "      <td>16013</td>\n",
       "      <td>1360</td>\n",
       "      <td>8.493099</td>\n",
       "      <td>91.506901</td>\n",
       "    </tr>\n",
       "  </tbody>\n",
       "</table>\n",
       "</div>"
      ],
      "text/plain": [
       "                        debt                                       \n",
       "                       count   sum % имеющих долг % не имеющих долг\n",
       "category_total_income                                              \n",
       "от 0 до 30000             22     2       9.090909         90.909091\n",
       "от 1000001 и выше         25     2       8.000000         92.000000\n",
       "от 200001 до 1000000    5044   356       7.057891         92.942109\n",
       "от 30001 до 50000        350    21       6.000000         94.000000\n",
       "от 50001 до 200000     16013  1360       8.493099         91.506901"
      ]
     },
     "execution_count": 104,
     "metadata": {},
     "output_type": "execute_result"
    }
   ],
   "source": [
    "df2_group = df2.groupby('category_total_income').agg(\n",
    "                        {'debt':['count', 'sum', ('% имеющих долг', lambda x: x.mean()*100),\n",
    "                                                 ('% не имеющих долг', lambda x: 100 - x.mean()*100)]\n",
    "                        })\n",
    "\n",
    "df2_group.info()\n",
    "df2_group.columns\n",
    "df2_group"
   ]
  },
  {
   "cell_type": "code",
   "execution_count": 126,
   "id": "d6e99817-d70b-4545-a3a1-d43629657a87",
   "metadata": {},
   "outputs": [
    {
     "data": {
      "image/png": "[encoded data removed]",
      "text/plain": [
       "<Figure size 2000x1100 with 2 Axes>"
      ]
     },
     "metadata": {},
     "output_type": "display_data"
    }
   ],
   "source": [
    "_, (ax1, ax2) = plt.subplots(ncols=1, nrows=2, figsize=(20, 11))\n",
    "\n",
    "ax1.scatter(df2_group.index, df2_group['debt', '% имеющих долг'], color='DarkBlue', linewidth=1.5)\n",
    "ax1.plot(df2_group['debt', '% имеющих долг'], color='DarkBlue', linewidth=1.5)\n",
    "ax1.set_title('Уровень дохода и доля заемщиков имеющих долг', fontsize=18)\n",
    "ax1.set_xlabel('уровень дохода', fontsize=18)\n",
    "ax1.set_ylabel('% не имеющих долг', fontsize=18)\n",
    "ax1.grid(True)\n",
    "\n",
    "ax2.scatter(df2_group.index, df2_group['debt', '% не имеющих долг'], color='DarkBlue', linewidth=1.5)\n",
    "ax2.plot(df2_group['debt', '% не имеющих долг'], color='DarkBlue', linewidth=1.5)\n",
    "ax2.set_title('Уровень дохода и доля заемщиков не имеющих долг', fontsize=18)\n",
    "ax2.set_xlabel('уровень дохода', fontsize=18)\n",
    "ax2.set_ylabel('% не имеющих долг', fontsize=18)\n",
    "ax2.grid(True)"
   ]
  },
  {
   "cell_type": "markdown",
   "id": "c2164f0c-269c-4a28-a4b7-767bff7d076f",
   "metadata": {},
   "source": [
    "### На графике наглядно видно, что с ростом дохода повышается своевременность погашения долга (но до уровня дохода от 300001 до 500000), а далее почему то резко снижается."
   ]
  },
  {
   "cell_type": "code",
   "execution_count": null,
   "id": "bb6b3c85-818b-4fe2-87f6-338b942d1b0f",
   "metadata": {},
   "outputs": [],
   "source": []
  },
  {
   "cell_type": "markdown",
   "id": "920acc27-7203-4a97-b790-5f3f95b366ec",
   "metadata": {},
   "source": [
    "## 4.4. Как различные цели кредитования влияют на своевременное погашение кредита? <br> How do different loan purposes affect timely loan repayment?"
   ]
  },
  {
   "cell_type": "code",
   "execution_count": 128,
   "id": "b9c368b8-d027-4c4a-8130-cc2f5adc29c6",
   "metadata": {},
   "outputs": [
    {
     "name": "stdout",
     "output_type": "stream",
     "text": [
      "<class 'pandas.core.frame.DataFrame'>\n",
      "Index: 4 entries, автомобиль to свадьба\n",
      "Data columns (total 4 columns):\n",
      " #   Column                     Non-Null Count  Dtype  \n",
      "---  ------                     --------------  -----  \n",
      " 0   (debt, count)              4 non-null      int64  \n",
      " 1   (debt, sum)                4 non-null      int64  \n",
      " 2   (debt, % имеющих долг)     4 non-null      float64\n",
      " 3   (debt, % не имеющих долг)  4 non-null      float64\n",
      "dtypes: float64(2), int64(2)\n",
      "memory usage: 160.0+ bytes\n"
     ]
    },
    {
     "data": {
      "text/html": [
       "<div>\n",
       "<style scoped>\n",
       "    .dataframe tbody tr th:only-of-type {\n",
       "        vertical-align: middle;\n",
       "    }\n",
       "\n",
       "    .dataframe tbody tr th {\n",
       "        vertical-align: top;\n",
       "    }\n",
       "\n",
       "    .dataframe thead tr th {\n",
       "        text-align: left;\n",
       "    }\n",
       "\n",
       "    .dataframe thead tr:last-of-type th {\n",
       "        text-align: right;\n",
       "    }\n",
       "</style>\n",
       "<table border=\"1\" class=\"dataframe\">\n",
       "  <thead>\n",
       "    <tr>\n",
       "      <th></th>\n",
       "      <th colspan=\"4\" halign=\"left\">debt</th>\n",
       "    </tr>\n",
       "    <tr>\n",
       "      <th></th>\n",
       "      <th>count</th>\n",
       "      <th>sum</th>\n",
       "      <th>% имеющих долг</th>\n",
       "      <th>% не имеющих долг</th>\n",
       "    </tr>\n",
       "    <tr>\n",
       "      <th>purpose_category</th>\n",
       "      <th></th>\n",
       "      <th></th>\n",
       "      <th></th>\n",
       "      <th></th>\n",
       "    </tr>\n",
       "  </thead>\n",
       "  <tbody>\n",
       "    <tr>\n",
       "      <th>автомобиль</th>\n",
       "      <td>4306</td>\n",
       "      <td>403</td>\n",
       "      <td>9.359034</td>\n",
       "      <td>90.640966</td>\n",
       "    </tr>\n",
       "    <tr>\n",
       "      <th>недвижимость</th>\n",
       "      <td>10811</td>\n",
       "      <td>782</td>\n",
       "      <td>7.233373</td>\n",
       "      <td>92.766627</td>\n",
       "    </tr>\n",
       "    <tr>\n",
       "      <th>образование</th>\n",
       "      <td>4013</td>\n",
       "      <td>370</td>\n",
       "      <td>9.220035</td>\n",
       "      <td>90.779965</td>\n",
       "    </tr>\n",
       "    <tr>\n",
       "      <th>свадьба</th>\n",
       "      <td>2324</td>\n",
       "      <td>186</td>\n",
       "      <td>8.003442</td>\n",
       "      <td>91.996558</td>\n",
       "    </tr>\n",
       "  </tbody>\n",
       "</table>\n",
       "</div>"
      ],
      "text/plain": [
       "                   debt                                      \n",
       "                  count  sum % имеющих долг % не имеющих долг\n",
       "purpose_category                                             \n",
       "автомобиль         4306  403       9.359034         90.640966\n",
       "недвижимость      10811  782       7.233373         92.766627\n",
       "образование        4013  370       9.220035         90.779965\n",
       "свадьба            2324  186       8.003442         91.996558"
      ]
     },
     "execution_count": 128,
     "metadata": {},
     "output_type": "execute_result"
    }
   ],
   "source": [
    "df2_group = df2.groupby('purpose_category').agg(\n",
    "                        {'debt':['count', 'sum', ('% имеющих долг', lambda x: x.mean()*100),\n",
    "                                                 ('% не имеющих долг', lambda x: 100 - x.mean()*100)]\n",
    "                        })\n",
    "\n",
    "df2_group.info()\n",
    "df2_group.columns\n",
    "df2_group"
   ]
  },
  {
   "cell_type": "code",
   "execution_count": null,
   "id": "dcb5bbdd-e4df-49c3-acb2-af941832e856",
   "metadata": {},
   "outputs": [],
   "source": [
    "df3 = df2[['children', 'days_employed', 'education_id', 'family_status_id',\n",
    "           'gender', 'income_type', 'debt', 'total_income', 'purpose']]\n",
    "df3.head()"
   ]
  },
  {
   "cell_type": "code",
   "execution_count": null,
   "id": "a04baf0d-e171-472b-9dec-17af424c79fa",
   "metadata": {},
   "outputs": [],
   "source": []
  },
  {
   "cell_type": "code",
   "execution_count": null,
   "id": "3a43eac5-82c6-4f7b-8392-406385747341",
   "metadata": {},
   "outputs": [],
   "source": []
  },
  {
   "cell_type": "code",
   "execution_count": null,
   "id": "c909be53-3c2a-4644-9ddb-5a8992b181e9",
   "metadata": {},
   "outputs": [],
   "source": []
  },
  {
   "cell_type": "code",
   "execution_count": null,
   "id": "10cd9552-4d1f-4bb6-9f63-80b353f2388d",
   "metadata": {},
   "outputs": [],
   "source": []
  },
  {
   "cell_type": "code",
   "execution_count": null,
   "id": "0946bbcc-d2c0-4831-b0ed-edc937ed15a2",
   "metadata": {},
   "outputs": [],
   "source": []
  },
  {
   "cell_type": "code",
   "execution_count": null,
   "id": "39ada3e1-6355-4690-a91f-35d9742c0c8d",
   "metadata": {},
   "outputs": [],
   "source": []
  },
  {
   "cell_type": "markdown",
   "id": "5f78e8cd-1c27-4eea-8e15-f38d5fc0920f",
   "metadata": {},
   "source": [
    "\n",
    "\n",
    "## Шаг 3. Ответьте на эти вопросы:\n",
    "— Есть ли связь между рождением детей и своевременным погашением кредита?\n",
    "— Есть ли связь между семейным положением и своевременным погашением кредита?\n",
    "— Есть ли связь между уровнем дохода и своевременным погашением кредита?\n",
    "— Как различные цели кредитования влияют на своевременное погашение кредита?\n",
    "Интерпретируйте свои ответы. Объясните, что означают полученные вами результаты."
   ]
  },
  {
   "cell_type": "code",
   "execution_count": null,
   "id": "0d671060-440a-4ecf-9593-314ab6dd979a",
   "metadata": {},
   "outputs": [],
   "source": []
  },
  {
   "cell_type": "code",
   "execution_count": null,
   "id": "722f6bed-0820-4478-b50b-cb3df2b022fd",
   "metadata": {},
   "outputs": [],
   "source": []
  },
  {
   "cell_type": "code",
   "execution_count": null,
   "id": "737af053-76e6-48e4-9208-56a95c87e31c",
   "metadata": {},
   "outputs": [],
   "source": []
  },
  {
   "cell_type": "markdown",
   "id": "762d2fb2-b35a-4268-9d2d-160811cd88a7",
   "metadata": {},
   "source": [
    "## Step 4. Write an overall conclusion."
   ]
  },
  {
   "cell_type": "code",
   "execution_count": null,
   "id": "a22525a5-b707-4ea0-8aee-e19025097b96",
   "metadata": {
    "editable": true,
    "slideshow": {
     "slide_type": ""
    },
    "tags": []
   },
   "outputs": [],
   "source": []
  },
  {
   "cell_type": "markdown",
   "id": "ab565f2b-b9ec-41b3-92d9-e9092146076f",
   "metadata": {},
   "source": [
    "roject\n",
    "Step 1. Open the data file /datasets/credit_scoring_eng.csv and have a look at the general information.\n",
    "Step 2. Preprocess the data:\n",
    "—Identify and fill in missing values.\n",
    "—Replace the real number data type with the integer type.\n",
    "—Delete duplicate data.\n",
    "—Categorize the data.\n",
    "Explain:\n",
    "—which missing values you identified;\n",
    "—possible reasons these missing values were present;\n",
    "—which method you used to fill in missing values;\n",
    "—which method you used to find and delete duplicate data and why;\n",
    "—possible reasons why duplicate data was present;\n",
    "—which method you used to change the data type and why;\n",
    "—which dictionaries you've selected for this data set and why.\n",
    "The data may contain artifacts, or values that don't correspond to reality—for instance, a negative number of days\n",
    "employed. This kind of thing happens when you're working with real data. You need to describe the possible reasons\n",
    "such data may have tu\n",
    "rned up and process it.\n",
    "Step 3. Answer these questions:\n",
    "—Is there a connection between having kids and repaying a loan on time?\n",
    "—Is there a connection between marital status and repaying a loan on time?\n",
    "—Is there a connection between income level and repaying a loan on time?\n",
    "—How do different loan purposes affect timely loan repayment?\n",
    "Interpret your answers. Explain what t\n",
    "he results you obtained mean.\n",
    "Step 4. Write an overall conclusion.\n",
    "Format: Complete the project in the Jupyter Notebook (it opens when you click Next). Write code in the code cells\n",
    "and notes with explanations and interpretations in the markdown cells. Use formatting and headings.\n",
    "Data description\n",
    "—children : the number of children in the family\n",
    "—days_employed: how long the customer has worked\n",
    "—dob_years: the customer’s age\n",
    "—education: the customer’s education level\n",
    "—education_id: identifier for the customer’s education\n",
    "—family_status: the customer’s marital status\n",
    "—family_status_id: identifier for the customer’s marital status\n",
    "—gender: the customer’s gender\n",
    "—income_type: the customer’s income type\n",
    "—debt: whether the client has ever defaulted on a loan\n",
    "—total_income: annual income\n",
    "—purpose: reason for taking out a loan"
   ]
  },
  {
   "cell_type": "code",
   "execution_count": null,
   "id": "16e4683a-a608-43b6-92ab-b6fb8f7a3b5e",
   "metadata": {},
   "outputs": [],
   "source": []
  },
  {
   "cell_type": "code",
   "execution_count": null,
   "id": "e9436508-96b1-4096-882a-b6de543f5318",
   "metadata": {},
   "outputs": [],
   "source": []
  },
  {
   "cell_type": "code",
   "execution_count": null,
   "id": "6762afac-a92d-49cc-a447-af08b5411da6",
   "metadata": {},
   "outputs": [],
   "source": []
  },
  {
   "cell_type": "code",
   "execution_count": null,
   "id": "cc16b303-db46-42cb-b585-3d84abfe84fc",
   "metadata": {},
   "outputs": [],
   "source": []
  },
  {
   "cell_type": "code",
   "execution_count": null,
   "id": "23231b3b-5761-4dac-8920-f2ced6e89925",
   "metadata": {},
   "outputs": [],
   "source": []
  },
  {
   "cell_type": "code",
   "execution_count": null,
   "id": "19831c19-b63e-47f4-a637-d2912cbc913f",
   "metadata": {},
   "outputs": [],
   "source": []
  },
  {
   "cell_type": "code",
   "execution_count": null,
   "id": "c08fa577-2abe-4f75-8999-3b30b43dd307",
   "metadata": {},
   "outputs": [],
   "source": []
  },
  {
   "cell_type": "code",
   "execution_count": null,
   "id": "75a8d2dc-6965-4678-a7de-0638a14bf1bd",
   "metadata": {},
   "outputs": [],
   "source": []
  },
  {
   "cell_type": "code",
   "execution_count": null,
   "id": "55ac8e6d-e7c9-425d-a304-86c4b6876c26",
   "metadata": {},
   "outputs": [],
   "source": []
  },
  {
   "cell_type": "code",
   "execution_count": null,
   "id": "91b1e51d-a954-42f2-b77e-1ff3e0c42e34",
   "metadata": {},
   "outputs": [],
   "source": []
  },
  {
   "cell_type": "code",
   "execution_count": null,
   "id": "654d83b1-c64c-480e-adb7-de17c5e8cd2e",
   "metadata": {},
   "outputs": [],
   "source": []
  },
  {
   "cell_type": "code",
   "execution_count": null,
   "id": "81b6e92c-990e-4f41-8b93-8aab3c93e3d7",
   "metadata": {},
   "outputs": [],
   "source": []
  },
  {
   "cell_type": "code",
   "execution_count": null,
   "id": "5b0391c8-8e77-4138-a4dc-e34545374981",
   "metadata": {},
   "outputs": [],
   "source": []
  },
  {
   "cell_type": "code",
   "execution_count": null,
   "id": "35181593-bb4c-4d43-9b41-877b26f387d1",
   "metadata": {},
   "outputs": [],
   "source": []
  },
  {
   "cell_type": "code",
   "execution_count": null,
   "id": "74f0122d-f307-4664-8137-1ca63dbbdbe7",
   "metadata": {},
   "outputs": [],
   "source": []
  },
  {
   "cell_type": "code",
   "execution_count": null,
   "id": "05cde91a-e74f-48f1-a4bf-be7538b974e8",
   "metadata": {},
   "outputs": [],
   "source": []
  },
  {
   "cell_type": "code",
   "execution_count": null,
   "id": "81939053-55a2-4474-90cb-b28749c2a357",
   "metadata": {},
   "outputs": [],
   "source": []
  },
  {
   "cell_type": "code",
   "execution_count": null,
   "id": "8607b121-1cda-49fe-8209-fd36530b4c4a",
   "metadata": {},
   "outputs": [],
   "source": []
  },
  {
   "cell_type": "code",
   "execution_count": null,
   "id": "11973d24-ed4f-42c3-a0c5-cf37d1353607",
   "metadata": {},
   "outputs": [],
   "source": []
  },
  {
   "cell_type": "code",
   "execution_count": null,
   "id": "d8beac0f-7c22-446d-b10e-dc7a458c1412",
   "metadata": {},
   "outputs": [],
   "source": []
  },
  {
   "cell_type": "code",
   "execution_count": null,
   "id": "b634e775-1261-4afe-a675-a5bb172539d3",
   "metadata": {},
   "outputs": [],
   "source": []
  },
  {
   "cell_type": "code",
   "execution_count": null,
   "id": "819b589a-9faf-424e-897b-30becfd0f4ed",
   "metadata": {},
   "outputs": [],
   "source": []
  },
  {
   "cell_type": "code",
   "execution_count": null,
   "id": "1364098f-56d0-47aa-9c31-07cf30c9bf54",
   "metadata": {},
   "outputs": [],
   "source": []
  },
  {
   "cell_type": "code",
   "execution_count": null,
   "id": "e22b76fd-bca9-4c60-9446-ab348b655f2e",
   "metadata": {},
   "outputs": [],
   "source": []
  },
  {
   "cell_type": "code",
   "execution_count": null,
   "id": "1e58151e-7313-4e80-8b84-91437333bf30",
   "metadata": {},
   "outputs": [],
   "source": []
  },
  {
   "cell_type": "code",
   "execution_count": null,
   "id": "92517333-79d9-4140-be47-e7f682e72fdb",
   "metadata": {},
   "outputs": [],
   "source": []
  },
  {
   "cell_type": "code",
   "execution_count": null,
   "id": "5b4e26ef-b561-44b3-9c62-baf4be1741bb",
   "metadata": {},
   "outputs": [],
   "source": []
  },
  {
   "cell_type": "code",
   "execution_count": null,
   "id": "574fef76-6db7-4594-b839-9095b3034f3b",
   "metadata": {},
   "outputs": [],
   "source": []
  },
  {
   "cell_type": "code",
   "execution_count": null,
   "id": "673e78b2-5f4b-479b-a64f-ad90730e0920",
   "metadata": {},
   "outputs": [],
   "source": []
  },
  {
   "cell_type": "code",
   "execution_count": null,
   "id": "5a512499-91d2-4488-8290-5794fca74073",
   "metadata": {},
   "outputs": [],
   "source": []
  },
  {
   "cell_type": "code",
   "execution_count": null,
   "id": "b973f7b5-dc45-4b51-91da-84176e977ba3",
   "metadata": {},
   "outputs": [],
   "source": []
  },
  {
   "cell_type": "code",
   "execution_count": null,
   "id": "cce9b5bc-ec8b-4bd9-8dc1-21cf395162ba",
   "metadata": {},
   "outputs": [],
   "source": []
  },
  {
   "cell_type": "code",
   "execution_count": null,
   "id": "a5dc6bdb-eb0a-455c-9b6f-49bb5172c3c0",
   "metadata": {},
   "outputs": [],
   "source": []
  },
  {
   "cell_type": "code",
   "execution_count": null,
   "id": "0dc4be07-61d7-4815-be69-6e7aa818885e",
   "metadata": {},
   "outputs": [],
   "source": []
  },
  {
   "cell_type": "code",
   "execution_count": null,
   "id": "e04fc04f-5ab3-42e2-a321-96847af6fa08",
   "metadata": {},
   "outputs": [],
   "source": []
  },
  {
   "cell_type": "code",
   "execution_count": null,
   "id": "b354d3cd-6f08-4d4b-a057-8df958b6b36f",
   "metadata": {},
   "outputs": [],
   "source": []
  },
  {
   "cell_type": "code",
   "execution_count": null,
   "id": "06f21191-dfd7-4a40-a6aa-d4b2117f904c",
   "metadata": {},
   "outputs": [],
   "source": []
  },
  {
   "cell_type": "code",
   "execution_count": null,
   "id": "121a33ea-ed2e-4370-9acb-ee5b7066cd19",
   "metadata": {},
   "outputs": [],
   "source": []
  },
  {
   "cell_type": "code",
   "execution_count": null,
   "id": "0b4efa45-b9f4-4f0f-be20-d296c2b52625",
   "metadata": {},
   "outputs": [],
   "source": []
  },
  {
   "cell_type": "code",
   "execution_count": null,
   "id": "9f146678-e25b-4c56-a11a-dfb639cd09da",
   "metadata": {},
   "outputs": [],
   "source": []
  },
  {
   "cell_type": "code",
   "execution_count": null,
   "id": "23fd7008-b83a-4172-89d1-23cad6c4212c",
   "metadata": {},
   "outputs": [],
   "source": []
  },
  {
   "cell_type": "code",
   "execution_count": null,
   "id": "8ab253f6-5216-4720-8ecd-0540510721b1",
   "metadata": {},
   "outputs": [],
   "source": []
  },
  {
   "cell_type": "code",
   "execution_count": 44,
   "id": "08d0a37f",
   "metadata": {},
   "outputs": [],
   "source": [
    "%qtconsole"
   ]
  },
  {
   "cell_type": "code",
   "execution_count": null,
   "id": "3b484d1f",
   "metadata": {},
   "outputs": [],
   "source": []
  },
  {
   "cell_type": "code",
   "execution_count": 45,
   "id": "33922a8a",
   "metadata": {},
   "outputs": [
    {
     "ename": "SyntaxError",
     "evalue": "invalid syntax (4175586793.py, line 1)",
     "output_type": "error",
     "traceback": [
      "\u001b[1;36m  Cell \u001b[1;32mIn[45], line 1\u001b[1;36m\u001b[0m\n\u001b[1;33m    https://coderlessons.com/tutorials/python-technologies/jupyter/jupyter-qtconsole-vstroennaia-grafika\u001b[0m\n\u001b[1;37m          ^\u001b[0m\n\u001b[1;31mSyntaxError\u001b[0m\u001b[1;31m:\u001b[0m invalid syntax\n"
     ]
    }
   ],
   "source": [
    "https://coderlessons.com/tutorials/python-technologies/jupyter/jupyter-qtconsole-vstroennaia-grafika"
   ]
  },
  {
   "cell_type": "code",
   "execution_count": null,
   "id": "e27b8020",
   "metadata": {},
   "outputs": [],
   "source": [
    "https://habr.com/ru/articles/485318/\n",
    "    "
   ]
  },
  {
   "cell_type": "code",
   "execution_count": null,
   "id": "165d0faf",
   "metadata": {},
   "outputs": [],
   "source": []
  },
  {
   "cell_type": "code",
   "execution_count": null,
   "id": "8755b91f",
   "metadata": {},
   "outputs": [],
   "source": []
  },
  {
   "cell_type": "code",
   "execution_count": null,
   "id": "20ad1a00",
   "metadata": {},
   "outputs": [],
   "source": []
  },
  {
   "cell_type": "code",
   "execution_count": null,
   "id": "7a0aac30",
   "metadata": {},
   "outputs": [],
   "source": [
    "from __future__ import print_function\n",
    "\n",
    "print('hi, stderr', file=sys.stderr)\n",
    "hi, stderr"
   ]
  },
  {
   "cell_type": "code",
   "execution_count": null,
   "id": "fb64f851",
   "metadata": {},
   "outputs": [],
   "source": []
  },
  {
   "cell_type": "code",
   "execution_count": null,
   "id": "1f6d5480",
   "metadata": {},
   "outputs": [],
   "source": []
  }
 ],
 "metadata": {
  "kernelspec": {
   "display_name": "Python 3 (ipykernel)",
   "language": "python",
   "name": "python3"
  },
  "language_info": {
   "codemirror_mode": {
    "name": "ipython",
    "version": 3
   },
   "file_extension": ".py",
   "mimetype": "text/x-python",
   "name": "python",
   "nbconvert_exporter": "python",
   "pygments_lexer": "ipython3",
   "version": "3.9.16"
  }
 },
 "nbformat": 4,
 "nbformat_minor": 5
}
